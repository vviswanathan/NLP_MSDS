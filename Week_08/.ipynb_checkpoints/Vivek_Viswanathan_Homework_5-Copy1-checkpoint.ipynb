{
 "cells": [
  {
   "cell_type": "code",
   "execution_count": 1,
   "metadata": {},
   "outputs": [],
   "source": [
    "import requests\n",
    "from bs4 import BeautifulSoup\n",
    "from selenium import webdriver\n",
    "from selenium.webdriver.common.keys import Keys\n",
    "import pandas as pd\n",
    "from vaderSentiment.vaderSentiment import SentimentIntensityAnalyzer\n",
    "from textblob import TextBlob\n",
    "import time"
   ]
  },
  {
   "cell_type": "code",
   "execution_count": 2,
   "metadata": {},
   "outputs": [],
   "source": [
    "#!pip install textblob"
   ]
  },
  {
   "cell_type": "code",
   "execution_count": 18,
   "metadata": {},
   "outputs": [
    {
     "name": "stdout",
     "output_type": "stream",
     "text": [
      "What movie or tv shows do you want to watch? : Better Call Saul\n"
     ]
    }
   ],
   "source": [
    "movie = input(\"What movie or tv shows do you want to watch? : \")#Set the web browser\n",
    "driver = webdriver.Chrome(executable_path=r\"C:\\Vivek\\Software\\chromedriver.exe\")\n",
    "\n",
    "#Go to Google\n",
    "driver.get(\"https://www.google.com/\")"
   ]
  },
  {
   "cell_type": "code",
   "execution_count": 19,
   "metadata": {},
   "outputs": [],
   "source": [
    "#Enter the keyword\n",
    "driver.find_element_by_name(\"q\").send_keys(movie + \" imdb\")\n",
    "time.sleep(1)"
   ]
  },
  {
   "cell_type": "code",
   "execution_count": 20,
   "metadata": {},
   "outputs": [],
   "source": [
    "#Click the google search button\n",
    "driver.find_element_by_name(\"btnK\").send_keys(Keys.ENTER)\n",
    "time.sleep(1)"
   ]
  },
  {
   "cell_type": "code",
   "execution_count": 21,
   "metadata": {},
   "outputs": [],
   "source": [
    "driver.find_element_by_class_name(\"r\").click()"
   ]
  },
  {
   "cell_type": "code",
   "execution_count": 22,
   "metadata": {},
   "outputs": [],
   "source": [
    "#Click the user reviews\n",
    "#driver.find_element_by_xpath(\"/html/body/div[3]/div/div[2]/div[5]/div[1]/div[2]/div/div[1]/div[1]/div[1]/a[3]\").click()\n",
    "driver.find_element_by_xpath(\"/html/body/div[3]/div/div[2]/div[5]/div[1]/div[2]/div/div[1]/div[1]/div[1]/a[3]\").click()"
   ]
  },
  {
   "cell_type": "code",
   "execution_count": 23,
   "metadata": {},
   "outputs": [],
   "source": [
    "#Scrap IMBD review\n",
    "ans = driver.current_url\n",
    "page = requests.get(ans)\n",
    "soup = BeautifulSoup(page.content, \"html.parser\")\n",
    "all = soup.find(id=\"main\")"
   ]
  },
  {
   "cell_type": "code",
   "execution_count": 24,
   "metadata": {},
   "outputs": [],
   "source": [
    "#Get the title of the movie\n",
    "all = soup.find(id=\"main\")\n",
    "parent = all.find(class_ =\"parent\")\n",
    "name = parent.find(itemprop = \"name\")\n",
    "url = name.find(itemprop = 'url')\n",
    "film_title = url.get_text()"
   ]
  },
  {
   "cell_type": "code",
   "execution_count": 25,
   "metadata": {},
   "outputs": [],
   "source": [
    "#Get the title of the review\n",
    "title_rev = all.select(\".title\")\n",
    "title = [t.get_text().replace(\"\\n\", \"\") for t in title_rev]"
   ]
  },
  {
   "cell_type": "code",
   "execution_count": 26,
   "metadata": {},
   "outputs": [],
   "source": [
    "#Get the review\n",
    "review_rev = all.select(\".content .text\")\n",
    "review = [r.get_text() for r in review_rev]"
   ]
  },
  {
   "cell_type": "code",
   "execution_count": 27,
   "metadata": {},
   "outputs": [],
   "source": [
    "#Make it into dataframe\n",
    "table_review = pd.DataFrame({\n",
    "    \"Title\" : title,\n",
    "    \"Review\" : review\n",
    "})"
   ]
  },
  {
   "cell_type": "code",
   "execution_count": 28,
   "metadata": {},
   "outputs": [
    {
     "data": {
      "text/html": [
       "<div>\n",
       "<style scoped>\n",
       "    .dataframe tbody tr th:only-of-type {\n",
       "        vertical-align: middle;\n",
       "    }\n",
       "\n",
       "    .dataframe tbody tr th {\n",
       "        vertical-align: top;\n",
       "    }\n",
       "\n",
       "    .dataframe thead th {\n",
       "        text-align: right;\n",
       "    }\n",
       "</style>\n",
       "<table border=\"1\" class=\"dataframe\">\n",
       "  <thead>\n",
       "    <tr style=\"text-align: right;\">\n",
       "      <th></th>\n",
       "      <th>Title</th>\n",
       "      <th>Review</th>\n",
       "    </tr>\n",
       "  </thead>\n",
       "  <tbody>\n",
       "    <tr>\n",
       "      <th>0</th>\n",
       "      <td>As darkly comic and multilayered as Breaking ...</td>\n",
       "      <td>So here it is at last: one of the most highly ...</td>\n",
       "    </tr>\n",
       "    <tr>\n",
       "      <th>1</th>\n",
       "      <td>It just keeps getting better and thats unhear...</td>\n",
       "      <td>Someone is responsible for making this such an...</td>\n",
       "    </tr>\n",
       "    <tr>\n",
       "      <th>2</th>\n",
       "      <td>extremely underrated</td>\n",
       "      <td>This show deserves more recognition.\\nBetter C...</td>\n",
       "    </tr>\n",
       "    <tr>\n",
       "      <th>3</th>\n",
       "      <td>Thank god I decided to give this a chance</td>\n",
       "      <td>Let's face facts: Spin-off TV shows tend to fa...</td>\n",
       "    </tr>\n",
       "    <tr>\n",
       "      <th>4</th>\n",
       "      <td>This show has filled the Breaking Bad gap in ...</td>\n",
       "      <td>I loved every second of the first two episodes...</td>\n",
       "    </tr>\n",
       "    <tr>\n",
       "      <th>5</th>\n",
       "      <td>Saul definitely deserves love too from Breaki...</td>\n",
       "      <td>One thing that stopped me from watching this m...</td>\n",
       "    </tr>\n",
       "    <tr>\n",
       "      <th>6</th>\n",
       "      <td>Better Call Saul challenges 'spin-off' title</td>\n",
       "      <td>Let's retire Better Call Saul's 'spin-off' lab...</td>\n",
       "    </tr>\n",
       "    <tr>\n",
       "      <th>7</th>\n",
       "      <td>The perfect balance</td>\n",
       "      <td>Better Call Saul might be my favorite show off...</td>\n",
       "    </tr>\n",
       "    <tr>\n",
       "      <th>8</th>\n",
       "      <td>Amazing, takes the best things from Breaking ...</td>\n",
       "      <td>To be honest, I didn't know what to expect wit...</td>\n",
       "    </tr>\n",
       "    <tr>\n",
       "      <th>9</th>\n",
       "      <td>Not a show for people with short attention spans</td>\n",
       "      <td>There are still people who like their entertai...</td>\n",
       "    </tr>\n",
       "    <tr>\n",
       "      <th>10</th>\n",
       "      <td>Amazing spin-off</td>\n",
       "      <td>This show I had low expectations but I was pro...</td>\n",
       "    </tr>\n",
       "    <tr>\n",
       "      <th>11</th>\n",
       "      <td>Best serie</td>\n",
       "      <td>Best serie ever if you have watch the serie be...</td>\n",
       "    </tr>\n",
       "    <tr>\n",
       "      <th>12</th>\n",
       "      <td>Amazing show</td>\n",
       "      <td>BCS is a revolutionary show that includes so m...</td>\n",
       "    </tr>\n",
       "    <tr>\n",
       "      <th>13</th>\n",
       "      <td>Excellent</td>\n",
       "      <td>This series is the ideal for those who are bre...</td>\n",
       "    </tr>\n",
       "    <tr>\n",
       "      <th>14</th>\n",
       "      <td>This soared way past my already high expectat...</td>\n",
       "      <td>Just watched the first episodes and I feel com...</td>\n",
       "    </tr>\n",
       "    <tr>\n",
       "      <th>15</th>\n",
       "      <td>Works not only as a spin off.. but as a show ...</td>\n",
       "      <td>Breaking Bad in my opinion is the perfect show...</td>\n",
       "    </tr>\n",
       "    <tr>\n",
       "      <th>16</th>\n",
       "      <td>Anticipation was Well worth the Wait</td>\n",
       "      <td>The show was a long wait to come; since BB I'v...</td>\n",
       "    </tr>\n",
       "    <tr>\n",
       "      <th>17</th>\n",
       "      <td>All seasons are awesome.</td>\n",
       "      <td>Those people who are rating the last season 4 ...</td>\n",
       "    </tr>\n",
       "    <tr>\n",
       "      <th>18</th>\n",
       "      <td>People need to re-review this series</td>\n",
       "      <td>At the time of this review, the average is 8.7...</td>\n",
       "    </tr>\n",
       "    <tr>\n",
       "      <th>19</th>\n",
       "      <td>Gilligan and Gould do it again !!!</td>\n",
       "      <td>Six episodes in to Better Call Saul now - and ...</td>\n",
       "    </tr>\n",
       "    <tr>\n",
       "      <th>20</th>\n",
       "      <td>Season 6 starts filming in September 2020!</td>\n",
       "      <td>Season 5 continues to do at least two things b...</td>\n",
       "    </tr>\n",
       "    <tr>\n",
       "      <th>21</th>\n",
       "      <td>A great Breaking Bad spin-off might even surp...</td>\n",
       "      <td>Season - 3 (I bet you'll be thrilled);\\nStory-...</td>\n",
       "    </tr>\n",
       "    <tr>\n",
       "      <th>22</th>\n",
       "      <td>Better in every way</td>\n",
       "      <td>I started watching this series during covid cr...</td>\n",
       "    </tr>\n",
       "    <tr>\n",
       "      <th>23</th>\n",
       "      <td>Neck and neck with Breaking Bad</td>\n",
       "      <td>45-50 minute episode always feel like just 20 ...</td>\n",
       "    </tr>\n",
       "    <tr>\n",
       "      <th>24</th>\n",
       "      <td>BCS is heading towards it's BB franchise time...</td>\n",
       "      <td>Better call Saul for me is divided into two pa...</td>\n",
       "    </tr>\n",
       "  </tbody>\n",
       "</table>\n",
       "</div>"
      ],
      "text/plain": [
       "                                                Title  \\\n",
       "0    As darkly comic and multilayered as Breaking ...   \n",
       "1    It just keeps getting better and thats unhear...   \n",
       "2                                extremely underrated   \n",
       "3           Thank god I decided to give this a chance   \n",
       "4    This show has filled the Breaking Bad gap in ...   \n",
       "5    Saul definitely deserves love too from Breaki...   \n",
       "6        Better Call Saul challenges 'spin-off' title   \n",
       "7                                 The perfect balance   \n",
       "8    Amazing, takes the best things from Breaking ...   \n",
       "9    Not a show for people with short attention spans   \n",
       "10                                   Amazing spin-off   \n",
       "11                                         Best serie   \n",
       "12                                       Amazing show   \n",
       "13                                          Excellent   \n",
       "14   This soared way past my already high expectat...   \n",
       "15   Works not only as a spin off.. but as a show ...   \n",
       "16               Anticipation was Well worth the Wait   \n",
       "17                           All seasons are awesome.   \n",
       "18               People need to re-review this series   \n",
       "19                 Gilligan and Gould do it again !!!   \n",
       "20         Season 6 starts filming in September 2020!   \n",
       "21   A great Breaking Bad spin-off might even surp...   \n",
       "22                                Better in every way   \n",
       "23                    Neck and neck with Breaking Bad   \n",
       "24   BCS is heading towards it's BB franchise time...   \n",
       "\n",
       "                                               Review  \n",
       "0   So here it is at last: one of the most highly ...  \n",
       "1   Someone is responsible for making this such an...  \n",
       "2   This show deserves more recognition.\\nBetter C...  \n",
       "3   Let's face facts: Spin-off TV shows tend to fa...  \n",
       "4   I loved every second of the first two episodes...  \n",
       "5   One thing that stopped me from watching this m...  \n",
       "6   Let's retire Better Call Saul's 'spin-off' lab...  \n",
       "7   Better Call Saul might be my favorite show off...  \n",
       "8   To be honest, I didn't know what to expect wit...  \n",
       "9   There are still people who like their entertai...  \n",
       "10  This show I had low expectations but I was pro...  \n",
       "11  Best serie ever if you have watch the serie be...  \n",
       "12  BCS is a revolutionary show that includes so m...  \n",
       "13  This series is the ideal for those who are bre...  \n",
       "14  Just watched the first episodes and I feel com...  \n",
       "15  Breaking Bad in my opinion is the perfect show...  \n",
       "16  The show was a long wait to come; since BB I'v...  \n",
       "17  Those people who are rating the last season 4 ...  \n",
       "18  At the time of this review, the average is 8.7...  \n",
       "19  Six episodes in to Better Call Saul now - and ...  \n",
       "20  Season 5 continues to do at least two things b...  \n",
       "21  Season - 3 (I bet you'll be thrilled);\\nStory-...  \n",
       "22  I started watching this series during covid cr...  \n",
       "23  45-50 minute episode always feel like just 20 ...  \n",
       "24  Better call Saul for me is divided into two pa...  "
      ]
     },
     "execution_count": 28,
     "metadata": {},
     "output_type": "execute_result"
    }
   ],
   "source": [
    "table_review"
   ]
  },
  {
   "cell_type": "code",
   "execution_count": null,
   "metadata": {},
   "outputs": [],
   "source": []
  }
 ],
 "metadata": {
  "kernelspec": {
   "display_name": "Python 3",
   "language": "python",
   "name": "python3"
  },
  "language_info": {
   "codemirror_mode": {
    "name": "ipython",
    "version": 3
   },
   "file_extension": ".py",
   "mimetype": "text/x-python",
   "name": "python",
   "nbconvert_exporter": "python",
   "pygments_lexer": "ipython3",
   "version": "3.7.3"
  }
 },
 "nbformat": 4,
 "nbformat_minor": 4
}

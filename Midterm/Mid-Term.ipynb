{
 "cells": [
  {
   "cell_type": "markdown",
   "metadata": {},
   "source": [
    "### Question 3b"
   ]
  },
  {
   "cell_type": "code",
   "execution_count": 1,
   "metadata": {},
   "outputs": [],
   "source": [
    "import nltk\n",
    "import os\n",
    "import IPython\n",
    "from IPython.display import Image, display\n",
    "from nltk.draw import TreeWidget\n",
    "from nltk.draw.util import CanvasFrame"
   ]
  },
  {
   "cell_type": "code",
   "execution_count": 2,
   "metadata": {},
   "outputs": [],
   "source": [
    "def ie_preprocess(document):\n",
    "    sentences = nltk.sent_tokenize(document)\n",
    "    sentences = [nltk.word_tokenize(sent) for sent in sentences]\n",
    "    #sentences = [nltk.pos_tag(sent) for sent in sentences]\n",
    "    return(sentences)"
   ]
  },
  {
   "cell_type": "code",
   "execution_count": 3,
   "metadata": {},
   "outputs": [],
   "source": [
    "groucho_grammar = nltk.CFG.fromstring(\"\"\"\n",
    "S -> NP VP\n",
    "NP -> Pronoun\n",
    "NP -> Proper-Noun\n",
    "NP -> Det Nominal\n",
    "Nominal -> Nominal Noun\n",
    "Nominal -> Nominal PP\n",
    "Nominal -> Noun\n",
    "VP -> Verb\n",
    "VP -> Verb NP\n",
    "VP -> Verb NP PP\n",
    "VP -> Verb PP\n",
    "PP -> Preposition NP\n",
    "Det -> 'a'\n",
    "Pronoun -> 'I'\n",
    "Proper-Noun -> 'LA'\n",
    "Noun -> 'flight'\n",
    "Verb -> 'booked'\n",
    "Preposition -> 'from'\n",
    "\"\"\")"
   ]
  },
  {
   "cell_type": "code",
   "execution_count": 4,
   "metadata": {},
   "outputs": [
    {
     "name": "stdout",
     "output_type": "stream",
     "text": [
      "['I', 'booked', 'a', 'flight', 'from', 'LA']\n",
      "(S\n",
      "  (NP (Pronoun I))\n",
      "  (VP\n",
      "    (Verb booked)\n",
      "    (NP (Det a) (Nominal (Noun flight)))\n",
      "    (PP (Preposition from) (NP (Proper-Noun LA)))))\n",
      "0\n",
      "(S\n",
      "  (NP (Pronoun I))\n",
      "  (VP\n",
      "    (Verb booked)\n",
      "    (NP\n",
      "      (Det a)\n",
      "      (Nominal\n",
      "        (Nominal (Noun flight))\n",
      "        (PP (Preposition from) (NP (Proper-Noun LA)))))))\n",
      "0\n"
     ]
    }
   ],
   "source": [
    "sent = 'I booked a flight from LA'.split()\n",
    "print(sent)\n",
    "i = 0\n",
    "parser = nltk.ChartParser(groucho_grammar)\n",
    "for tree in parser.parse(sent):\n",
    "    print(tree)\n",
    "    print(i)\n",
    "    tree.draw()"
   ]
  },
  {
   "cell_type": "markdown",
   "metadata": {},
   "source": [
    "### Question 4b"
   ]
  },
  {
   "cell_type": "code",
   "execution_count": 5,
   "metadata": {},
   "outputs": [
    {
     "name": "stderr",
     "output_type": "stream",
     "text": [
      "Warming up PyWSD (takes ~10 secs)... took 4.557121515274048 secs.\n"
     ]
    }
   ],
   "source": [
    "from pywsd.lesk import simple_lesk, original_lesk\n",
    "\n",
    "sent = \"The bank can guarantee deposits will eventually cover future tuition costs because it invests in adjustable-rate mortgage securities.\".lower()"
   ]
  },
  {
   "cell_type": "code",
   "execution_count": 6,
   "metadata": {},
   "outputs": [
    {
     "name": "stdout",
     "output_type": "stream",
     "text": [
      "Synset('depository_financial_institution.n.01')\n",
      "a financial institution that accepts deposits and channels the money into lending activities\n"
     ]
    }
   ],
   "source": [
    "ambiguous = 'bank'\n",
    "answer = simple_lesk(sent, ambiguous, pos='n')\n",
    "print(answer)\n",
    "print(answer.definition())"
   ]
  },
  {
   "cell_type": "code",
   "execution_count": 7,
   "metadata": {},
   "outputs": [
    {
     "name": "stdout",
     "output_type": "stream",
     "text": [
      "Synset('depository_financial_institution.n.01')\n",
      "a financial institution that accepts deposits and channels the money into lending activities\n"
     ]
    }
   ],
   "source": [
    "ambiguous = 'bank'\n",
    "answer1 = original_lesk(sent, ambiguous)\n",
    "print(answer1)\n",
    "print(answer1.definition())"
   ]
  }
 ],
 "metadata": {
  "kernelspec": {
   "display_name": "Python 3",
   "language": "python",
   "name": "python3"
  },
  "language_info": {
   "codemirror_mode": {
    "name": "ipython",
    "version": 3
   },
   "file_extension": ".py",
   "mimetype": "text/x-python",
   "name": "python",
   "nbconvert_exporter": "python",
   "pygments_lexer": "ipython3",
   "version": "3.7.3"
  }
 },
 "nbformat": 4,
 "nbformat_minor": 4
}

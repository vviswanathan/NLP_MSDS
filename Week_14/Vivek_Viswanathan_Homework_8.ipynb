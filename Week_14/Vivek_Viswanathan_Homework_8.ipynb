{
 "cells": [
  {
   "cell_type": "code",
   "execution_count": 37,
   "metadata": {},
   "outputs": [],
   "source": [
    "import pandas as pd\n",
    "import numpy as np\n",
    "import text_normalizer as tn\n",
    "import model_evaluation_utils as meu\n",
    "import contractions\n",
    "\n",
    "import re\n",
    "from nltk.corpus import stopwords \n",
    "from nltk.stem.porter import PorterStemmer "
   ]
  },
  {
   "cell_type": "code",
   "execution_count": 38,
   "metadata": {},
   "outputs": [],
   "source": [
    "np.set_printoptions(precision=2, linewidth=80)"
   ]
  },
  {
   "cell_type": "code",
   "execution_count": 39,
   "metadata": {},
   "outputs": [],
   "source": [
    "dataset = pd.read_excel(\"Film_User_Reviews.xlsx\")"
   ]
  },
  {
   "cell_type": "code",
   "execution_count": 40,
   "metadata": {},
   "outputs": [],
   "source": [
    "dataset['Rating'] = dataset['Rating'].replace(r'\\n','', regex=True).str.split('/').str[0].astype(int)"
   ]
  },
  {
   "cell_type": "code",
   "execution_count": 41,
   "metadata": {},
   "outputs": [],
   "source": [
    "conditions = [\n",
    "    (dataset['Rating'] <= 3),\n",
    "    (dataset['Rating'] > 3) & (dataset['Rating'] <= 5),\n",
    "    (dataset['Rating'] > 5) & (dataset['Rating'] <= 6),\n",
    "    (dataset['Rating'] > 6)\n",
    "    ]\n",
    "\n",
    "# create a list of the values we want to assign for each condition\n",
    "values = ['Low', 'Average', 'Median', 'High']\n",
    "\n",
    "# create a new column and use np.select to assign values to it using our lists as arguments\n",
    "dataset['Sentiment'] = np.select(conditions, values)"
   ]
  },
  {
   "cell_type": "code",
   "execution_count": 42,
   "metadata": {},
   "outputs": [
    {
     "data": {
      "text/html": [
       "<div>\n",
       "<style scoped>\n",
       "    .dataframe tbody tr th:only-of-type {\n",
       "        vertical-align: middle;\n",
       "    }\n",
       "\n",
       "    .dataframe tbody tr th {\n",
       "        vertical-align: top;\n",
       "    }\n",
       "\n",
       "    .dataframe thead th {\n",
       "        text-align: right;\n",
       "    }\n",
       "</style>\n",
       "<table border=\"1\" class=\"dataframe\">\n",
       "  <thead>\n",
       "    <tr style=\"text-align: right;\">\n",
       "      <th></th>\n",
       "      <th>Unnamed: 0</th>\n",
       "      <th>Film Title</th>\n",
       "      <th>Review User</th>\n",
       "      <th>Title</th>\n",
       "      <th>Review</th>\n",
       "      <th>Rating</th>\n",
       "      <th>Sentiment</th>\n",
       "    </tr>\n",
       "  </thead>\n",
       "  <tbody>\n",
       "    <tr>\n",
       "      <th>0</th>\n",
       "      <td>0</td>\n",
       "      <td>Palm Springs</td>\n",
       "      <td>fadlanamin</td>\n",
       "      <td>Weird but Good Weird</td>\n",
       "      <td>I was expecting a conventional rom-com where t...</td>\n",
       "      <td>8</td>\n",
       "      <td>High</td>\n",
       "    </tr>\n",
       "    <tr>\n",
       "      <th>1</th>\n",
       "      <td>1</td>\n",
       "      <td>Palm Springs</td>\n",
       "      <td>kjproulx</td>\n",
       "      <td>It's Very Hard to Dislike a Movie like Palm S...</td>\n",
       "      <td>Films that revolve around characters repeating...</td>\n",
       "      <td>9</td>\n",
       "      <td>High</td>\n",
       "    </tr>\n",
       "    <tr>\n",
       "      <th>2</th>\n",
       "      <td>2</td>\n",
       "      <td>Palm Springs</td>\n",
       "      <td>cartsghammond</td>\n",
       "      <td>Pure fun</td>\n",
       "      <td>Palm Springs is just such a good time of a mov...</td>\n",
       "      <td>9</td>\n",
       "      <td>High</td>\n",
       "    </tr>\n",
       "    <tr>\n",
       "      <th>3</th>\n",
       "      <td>3</td>\n",
       "      <td>Palm Springs</td>\n",
       "      <td>cardsrock</td>\n",
       "      <td>Simply terrific</td>\n",
       "      <td>I'm impressed that people are still able to fi...</td>\n",
       "      <td>8</td>\n",
       "      <td>High</td>\n",
       "    </tr>\n",
       "    <tr>\n",
       "      <th>4</th>\n",
       "      <td>4</td>\n",
       "      <td>Palm Springs</td>\n",
       "      <td>Loptimus06</td>\n",
       "      <td>A New Take On Groundhog Day</td>\n",
       "      <td>Palm Springs is \"One of those infinite time-lo...</td>\n",
       "      <td>8</td>\n",
       "      <td>High</td>\n",
       "    </tr>\n",
       "  </tbody>\n",
       "</table>\n",
       "</div>"
      ],
      "text/plain": [
       "   Unnamed: 0    Film Title    Review User  \\\n",
       "0           0  Palm Springs     fadlanamin   \n",
       "1           1  Palm Springs       kjproulx   \n",
       "2           2  Palm Springs  cartsghammond   \n",
       "3           3  Palm Springs      cardsrock   \n",
       "4           4  Palm Springs     Loptimus06   \n",
       "\n",
       "                                               Title  \\\n",
       "0                               Weird but Good Weird   \n",
       "1   It's Very Hard to Dislike a Movie like Palm S...   \n",
       "2                                           Pure fun   \n",
       "3                                    Simply terrific   \n",
       "4                        A New Take On Groundhog Day   \n",
       "\n",
       "                                              Review  Rating Sentiment  \n",
       "0  I was expecting a conventional rom-com where t...       8      High  \n",
       "1  Films that revolve around characters repeating...       9      High  \n",
       "2  Palm Springs is just such a good time of a mov...       9      High  \n",
       "3  I'm impressed that people are still able to fi...       8      High  \n",
       "4  Palm Springs is \"One of those infinite time-lo...       8      High  "
      ]
     },
     "execution_count": 42,
     "metadata": {},
     "output_type": "execute_result"
    }
   ],
   "source": [
    "dataset.head()"
   ]
  },
  {
   "cell_type": "code",
   "execution_count": 43,
   "metadata": {},
   "outputs": [],
   "source": [
    "reviews = np.array(dataset['Review'])"
   ]
  },
  {
   "cell_type": "code",
   "execution_count": 46,
   "metadata": {},
   "outputs": [],
   "source": [
    "# Initialize empty array \n",
    "# to append clean text  \n",
    "corpus = []  \n",
    "  \n",
    "# 1000 (reviews) rows to clean \n",
    "for i in range(0, 125):  \n",
    "      \n",
    "    # column : \"Review\", row ith \n",
    "    review = re.sub('[^a-zA-Z]', ' ', dataset['Review'][i])  \n",
    "      \n",
    "    # convert all cases to lower cases \n",
    "    review = review.lower()  \n",
    "      \n",
    "    # split to array(default delimiter is \" \") \n",
    "    review = review.split()  \n",
    "      \n",
    "    # creating PorterStemmer object to \n",
    "    # take main stem of each word \n",
    "    ps = PorterStemmer()  \n",
    "      \n",
    "    # loop for stemming each word \n",
    "    # in string array at ith row     \n",
    "    review = [ps.stem(word) for word in review \n",
    "                if not word in set(stopwords.words('english'))]  \n",
    "                  \n",
    "    # rejoin all string array elements \n",
    "    # to create back into a string \n",
    "    review = ' '.join(review)   \n",
    "      \n",
    "    # append each string to create \n",
    "    # array of clean text  \n",
    "    corpus.append(review)\n",
    "    np.array(corpus)"
   ]
  },
  {
   "cell_type": "code",
   "execution_count": 47,
   "metadata": {},
   "outputs": [],
   "source": [
    "sentiments = np.array(dataset['Sentiment'])"
   ]
  },
  {
   "cell_type": "code",
   "execution_count": 48,
   "metadata": {},
   "outputs": [
    {
     "data": {
      "text/plain": [
       "array(['High', 'High', 'High', 'High', 'High', 'High', 'High', 'High', 'High',\n",
       "       'High', 'High', 'High', 'High', 'High', 'High', 'High', 'High', 'High',\n",
       "       'High', 'High', 'High', 'High', 'High', 'High', 'Average', 'High',\n",
       "       'High', 'High', 'High', 'High', 'High', 'High', 'High', 'High', 'High',\n",
       "       'High', 'High', 'High', 'High', 'High', 'High', 'High', 'High', 'High',\n",
       "       'High', 'High', 'High', 'High', 'High', 'High', 'High', 'High', 'High',\n",
       "       'High', 'High', 'High', 'High', 'Median', 'High', 'Median', 'Average',\n",
       "       'Median', 'Average', 'High', 'Median', 'Median', 'Average', 'Average',\n",
       "       'Median', 'Average', 'High', 'Median', 'Median', 'Average', 'Low',\n",
       "       'Low', 'Low', 'Low', 'Low', 'Low', 'Low', 'Low', 'Low', 'Low', 'Low',\n",
       "       'Average', 'Low', 'Low', 'Low', 'Median', 'Low', 'Low', 'Average',\n",
       "       'Average', 'Average', 'High', 'Median', 'High', 'Low', 'Average',\n",
       "       'Average', 'Average', 'Low', 'Low', 'Low', 'Low', 'Low', 'Low', 'Low',\n",
       "       'Low', 'Low', 'Low', 'Low', 'Average', 'High', 'High', 'Median', 'Low',\n",
       "       'Low', 'High', 'High', 'Low', 'Low', 'High', 'Average'], dtype=object)"
      ]
     },
     "execution_count": 48,
     "metadata": {},
     "output_type": "execute_result"
    }
   ],
   "source": [
    "sentiments"
   ]
  },
  {
   "cell_type": "code",
   "execution_count": 60,
   "metadata": {},
   "outputs": [],
   "source": [
    "test_reviews = reviews[85:]\n",
    "test_sentiments = sentiments[85:]\n",
    "sample_review_ids = [4, 7, 25, 35]"
   ]
  },
  {
   "cell_type": "code",
   "execution_count": 61,
   "metadata": {},
   "outputs": [
    {
     "data": {
      "text/plain": [
       "array(['As I was watching this movie I thought to myself \"this really is a bad movie\", the acting and the direction isn\\'t the greatest.The movie centres on a teenager from a privileged family, supposedly with a high IQ, applying to the best universities in the US. As the movie progresses I couldn\\'t help but feel little to no empathy for his character.What a flop.',\n",
       "       \"Brilliant story about a guy, who found everything ready in life, got bored and blew everything just to have fun...\\nLet's just change the characters. Instead of rich white guy with wealthy parents, put a hardworking kid from the poor family.. Will he behave the same way? Easy to go wild when you drive fathers' Mercedes and live in the huge house with the pool. Screw it! Let's go crazy, not care about people, environment and other things, let's burn books, schools and other thing.\\nMillions of kids nowadays do not have even access to schools and sharing books as treasures. So I do not really understand the message of this movie, especially during this crisis we are going through now.\",\n",
       "       'The most self entitled set of characters I have ever seen. I am rooting for no one.',\n",
       "       'This film promoting rebellion and stupidity for young Americans is a perfect example of why Trump is running the country into the ground and killing tens of thousands of Americans. Go ahead, take no personal responsibility, act out, die.',\n",
       "       \"A 3 for the romance, a 2 for the comedy and a little bit more for the score. the actors are good at talking, but not stalking.its just one of those senior high movie-stuff, not as crazy and stupid as the main stream romcom, but it doesnt reach deep into your heart. its like booksmart, everything happens within 24 hours, and its like''the last nigt of the pranks''.it has a story of love and happiness, but it doesnt fondle above the knee of what the grumpy old man holds as a standard for these kind of movies. so if you like to learn some high school anarchistic pranks, then be my guest, for the rest its for the rainy sunday afternoon. a weak 6.\",\n",
       "       \"The main character is a unlikable entitled d bag who is constantly whining. The writing is horrible. The parents are idiots because parents are dumb. The love interest is a boring and stupid girl that wants to become a model who is prostituting herself out. Bottom line is Netflix needs to start producing some quality content or I'm dropping it.\",\n",
       "       'To make characters this unlikable. Not sure if the casting, the writing, the editing, the directing or a combination of them all made this movie so bad. The lead is supposed to have a high IQ? Not believable. This movie missed its mark on so many levels. It really could have been an inspirational, funny and entertaining movie however it just emphasizes how sh!tty entitled teens can be. Oh and the music? So annoying!',\n",
       "       'Considering the culture of the world in 2020 and how things are shaping, this movie feels like it would have been great had it been made 20 years ago. The problems the characters face are totally unrelatable to 99% of the population. It is as if the creators have been stuck in a time machine and still believe going to college and fulfilling our parents expectations are still relevant problems. They are, but they have been rehashed hundreds of times in the past.The only forgiving things this movie has going for it is it is midly entertaining. I also liked that the main character has dynamic morals and is willing to listen and learn.',\n",
       "       \"Just a stupid teenager who thinks it's cool to abandon a successful life that he'd been working on for 18 years, for a girl. Who is so basic and bland it makes vanilla seem like the most amazing flavour ever. She's like, oh yeah im going to destroy my dads' car. like, ok i guess. then she's sad that she has nowhere to go, when the mc OFFERS TO LET HER STAY AT HIS HOUSE. AND IT'S HUGE, LIKE WHY NOT??also, who cares about the friends storylines, they weren't even done well.\",\n",
       "       \"The movie started with great pace and promise, but it slowed down towards the middle. It even felt like it was going in reverse at one point! Many of the characters were not thoroughly fleshed out, particularly the main character's parents. No way would they have been so rah-rah supportive, in such a short amount of time, of their son's newly found freedom.\",\n",
       "       \"I had pretty low expectations but surprisingly it was fresh & had some genuine good moments. The coming of age or anti establishment wasn't too forceful or cathartic but it's ok. Lead actor was good. Overall breezy fun to watch if free on weekend.\",\n",
       "       'Crying about this being white privilege grow up you melts, also the film was ok.',\n",
       "       'Sometimes Hollywood just get the cheesy feel good summer movie whether be romance comedy or drama and it hits..I.e. Extracurricular Activities\\nI.e. Something Real and Good\\nRecent Turkish one I just saw... The Way We Are',\n",
       "       \"I mean I usually am able to sit down and enjoy just about any movie I watch. This is one of the few I've ever felt so compelled to register to IMDB for just to let everyone know how much of a piece of trash this was.I don't really know how to write a movie review, but this kid and his friends blow up a portion of the school, there is some BS police investigation because of his 'movement' and then he turns down multiple opportunists from Harvard to go chase his love interest? I usually enjoy these low effort movies enough but this one was just absolute trash, don't waste your time.\",\n",
       "       'I mean they mention child abuse, addiction, educational corruption, homelessness - but don\\'t worry they only mention it. They blow right past it to the real dilemma; what 50k a year college am I gonna get into and turn down?\\nIf you do make a horrible decision and your life is in pieces, try to become a social media sensation. Yeah, that makes just about perfect sense for a movie plot for Millennials.\\nI do get what the movie is supposed to be, and who it\\'s for. It is for middle class white kids ages 15-30. The humor and parents parts were funny enough for a rating of 5/10. Just because I don\\'t agree with its message in any way shape or form, doesn\\'t mean that it\\'s a 1 Star.\\nBut, I gotta say I\\'d rather see the movie about the stuff they blew right past. Sending a message to kids today to just say \"F\" it seems almost like brain washing to me, and a tad bit irresponsible. The corrupt system that they gloss over in this movie would like you all to do that. So good luck with that.',\n",
       "       'This movies premise is very old and kinda been done a lot of times already.It is one of the more boring ones, I found my self not really watching it but rather just letting it wash over me. There was nothing to grasp onto.Then I realised that the dialogue was terrible. It was so unfunny and bad. The delivery of the lines was also not great but I do wonder if they were like \"I can\\'t believe they are making me say this\".The plot is also paper thin and at times I think got bored of it\\'s self as it kinda wanders off and does irrelevant things then hopes back to what it was meant to be focusing on.I read that this movie has been in development since 2009 that is a long time ago, 11 years. I think it shows as it isn\\'t anything fresh unfortunately and I really like most of the leads.',\n",
       "       \"Yes, there's a scene where a dolphin eagerly humps Nasim Pedrad and then slaps her in the face with his dolphin dick and that aptly represents the general flavour of humour in yet another fairly terrible Netflix original.I'm giving this a 4 out of ten because there were a couple of funny scenes and the cast and set were well styled, but the screen writing, ugh.. the screen writing!!! ... as usual in these scraping the bottom of the barrel originals... was complete garbage.\",\n",
       "       \"I'll start by stating my 2 star rating is only due to loving most of the actors in the film. I would have thought this combination would have gone off much better than it did.The storyline is painfully erratic, with nothing to really grab on to. Instead of enjoying the experience you'll kind of just waste time watching something without taking anything from it to remember. In other words, it's a total waste of an hour and a half of your life that you'll never get back - and that's saying a lot while most of us are stuck at home in quarantine with too much free time.It's a shame they brought together this great group and missed the mark entirely on a story of any sort.Also, what's with the uncomfortable child/ adult live connection joke? It was cringeworthy at the first sentence and they kept it going throughout a decent length of the film. I don't know how this script ever got the green light.If you're looking for a great Netflix comedy, this isn't it. It's not even decent. Instead , I recommend you watch Eurovision Song Contest: the story of Fire Saga - it'll bring you laughs and even some tears of joy.\",\n",
       "       'This movie is nothing but cliches, bad acting, and recycled tropes. The dynamic between the woman playing the main character and the little boy at the resort is creepy and inappropriate exploitation of a minor actor.',\n",
       "       \"Congratulations, this movie was so bad it actually moved me to write a review.Desperadoes was a train wreck from start to cgi dolphin dong and then went downhill from there.\\nWhichever scriptwriter came up with this needs to go on strike again and I truly hope none of those involved (and to be clear, I previously liked all three of the 'recognisable' faces in this) ever live it down.Early and guaranteed winner of the Worst Movie of the 21st century.\",\n",
       "       'I turned this in because I love Nasim Pedrad. The trailer looked funny. But it was absolutely awful. There were a couple funny moments, but most of jokes were not funny and completely gross. The plot was painful and ridiculous.',\n",
       "       \"Seriously,, just dont waste your time watching this, i usually can bear a pathetic movie by doing a fast forward but this just broke my patience on all levels.. Do something unproductive or stupid to pass your time rather wasting it by watching this! You'll thank me later.\",\n",
       "       \"2020 is just so sad for so many people and this movie didn't help uplift the those who subscribed in Netflix during lockdown.\",\n",
       "       \"As soon as I saw Sean at the same resort as her I knew exactly what was going to happen. The whole little boy thing was really creepy and not needed. I feel like the film was way too long. I really wanted to like this film, I watched the preview on Netflix and it looked good. but it's so cringe. Typical friends falling out over something stupid. Making up. Her finding the man of her dreams.\",\n",
       "       'Why does Netflix keep making movies like this? Lamorne Morris is charming but the rest of the movie was painful to watch.',\n",
       "       'It is dull with an uninspired story line, questionable acting and an ending you can predict in the first 10 minutes.',\n",
       "       '... they resort to dialog loaded with the f.. word, vulgarity and mentions of sex.This formula is simple and has been used ad nauseam. But once one removes these elements from the dialog, there is very little left behind.In the case of In \"Desperado\" there is zero, nada, zilch.... I was surprised they did not show some boobage to try and fill the time.Too bad the rating system does not allow negative scores, for \"Desperado\" deserves -100!',\n",
       "       \"And they say The Room is the worst? I actually watched The Room with curiosity and weird excitement. And this? I felt like I want to punch screen of my laptop every 5 minutes.I honestly don't even know where to start... Everything about the movies is ridiculous. First of all the plot- so flat, predictable and banal that you just want it to finish before it stars. In a bad way. Not like The end of the world ridiculous, funny and silly way. It's like a copy of every simple comedy with decent characters combined into not funny, boring, bad shot and bad acted movie. No chemistry between actors whatsoever- the only character carrying the weight of decency is Sean- probably the only positive aspect of this movie. Dialogue horrible- sounds like written by acting students on a Sunday night for a Monday assignment. Honestly. I'm not even mean. Do not hope for a single lough- it's not gonna happen. Bad plot, no chemistry, flat, boring and too long. I feel like this movie sucked piece of my soul away and threw to a sewer.\",\n",
       "       \"There is so many good rom coms out there, just avoid this one. It's just terrible. Your partner maybe like let's just make our own minds up. DONT. Maybe two funny moments and the rest is just awful. We have to live with our mistake don't fall into the same trap.\",\n",
       "       \"In my opinion, romantic comedies by their very nature can only be so good. The plots are formulaic and rarely take anyone by surprise.\\nThat being said, this was a solid romcom. I think its better the the 5/10 stars it's gotten, and it did have a better b-story dynamic than most. If you like a fun romcom now and then, worth the watch.\",\n",
       "       \"If you watched the preview then you should know the movie you are watching... it's not expected to be a work of art.\",\n",
       "       \"I'm not sure what the huge number of complaints are about, this is exactly as advertised and hardly the dumpster fire it's being panned as.Chick flick, buddy, rom-com with a decent cast and light story. Is this some Oscar worthy masterpiece? No. Is it a fun watch to distract you from the actual nightmare that is 2020? Yes, yes it is.\",\n",
       "       'The entire movie is in the trailer, and even that was too much for me. I can\\'t even believe this was made. I was trying to think of situations in which the writers would have been in too much of a hurry to come up with a better story, but nothing came to mind. Even a kid writing a book report on the bus to school on the morning it is due could come up with a better product. Even if the writers had only been allotted the amount of time of the trailer to write the entire script, they should have done better, even if they were all morbidly hung over.It\\'s the old \"unsend an email\" plot that has been done a million times. Spoiler Alert: it was stupid the first time they did it, so imagine the same premise now. Yeah, neither can I.If you get down to the absolute bottom of the barrel in movie ideas, you\\'d still need to dig another couple of miles to reach the place where they discovered this script. It\\'s like the moral equivalent of turning a knock-knock joke into a feature film.',\n",
       "       \"Netflix just can't make a single thing right these days! They became a lame rubbish producing house, like a frat version from Hollywood! Its just one absurd and ridiculous work after another! Please do everybody a favor and stop doing this bs craps!!!\",\n",
       "       'My husband and I both enjoyed the heck out of this movie! Very cute and fun!',\n",
       "       'It was a good comedy film. Was it a masterliece? No! However, I enjoyed it & it made me laugh.... I have no idea why people are giving this movie so low ratings!',\n",
       "       'The main character was just annoying. Found myself hoping that bad things were going to happen to her. But, as in real life, the most annoying people get what they want. This movie was just so predictable. It was obvious what was going to happen just by watching the movie trailer. I don\\'t have a lot of time to watch movies so I was \"stuck\" watching this one once I was 15 minutes into it. I just watched. If you have time in your day, start to watch. If you\\'re as annoyed as I was after 15 minutes, pick another movie. If not, go ahead and give this one a shot.',\n",
       "       \"The ONLY good thing about this film is Lamorne Morris. He seemed to understand that this film was so pointless and poorly written that the only way to act in it was to sarcastically make his way through the film. And he was exceptional in that. If you're a fan of his, skip to every part he's in, you won't miss any important plot points.\",\n",
       "       \"I was surprised to see so many bad reviews. This movie had me laughing out loud numerous times and the characters were real and endearing. I don't think men will relate, but I think women in their 30s and up will really enjoy this movie. Good fun.\",\n",
       "       'Decent movie but was disappointed in the storyline. Was obvious what was going to happen right from start if the movie. Did not love the main character either'],\n",
       "      dtype=object)"
      ]
     },
     "execution_count": 61,
     "metadata": {},
     "output_type": "execute_result"
    }
   ],
   "source": [
    "test_reviews"
   ]
  },
  {
   "cell_type": "code",
   "execution_count": 62,
   "metadata": {},
   "outputs": [
    {
     "name": "stdout",
     "output_type": "stream",
     "text": [
      "REVIEW: A 3 for the romance, a 2 for the comedy and a little bit more for the score. the actors are good at talking, but not stalking.its just one of those senior high movie-stuff, not as crazy and stupid as the main stream romcom, but it doesnt reach deep into your heart. its like booksmart, everything happens within 24 hours, and its like''the last nigt of the pranks''.it has a story of love and happiness, but it doesnt fondle above the knee of what the grumpy old man holds as a standard for these kind of movies. so if you like to learn some high school anarchistic pranks, then be my guest, for the rest its for the rainy sunday afternoon. a weak 6.\n",
      "Actual Sentiment: Median\n",
      "Predicted Sentiment polarity: 0.09553921568627452\n",
      "------------------------------------------------------------\n",
      "REVIEW: Considering the culture of the world in 2020 and how things are shaping, this movie feels like it would have been great had it been made 20 years ago. The problems the characters face are totally unrelatable to 99% of the population. It is as if the creators have been stuck in a time machine and still believe going to college and fulfilling our parents expectations are still relevant problems. They are, but they have been rehashed hundreds of times in the past.The only forgiving things this movie has going for it is it is midly entertaining. I also liked that the main character has dynamic morals and is willing to listen and learn.\n",
      "Actual Sentiment: Average\n",
      "Predicted Sentiment polarity: 0.30185185185185187\n",
      "------------------------------------------------------------\n",
      "REVIEW: It is dull with an uninspired story line, questionable acting and an ending you can predict in the first 10 minutes.\n",
      "Actual Sentiment: Low\n",
      "Predicted Sentiment polarity: -0.20833333333333334\n",
      "------------------------------------------------------------\n",
      "REVIEW: It was a good comedy film. Was it a masterliece? No! However, I enjoyed it & it made me laugh.... I have no idea why people are giving this movie so low ratings!\n",
      "Actual Sentiment: High\n",
      "Predicted Sentiment polarity: 0.41875\n",
      "------------------------------------------------------------\n"
     ]
    }
   ],
   "source": [
    "import textblob\n",
    "\n",
    "for review, sentiment in zip(test_reviews[sample_review_ids], test_sentiments[sample_review_ids]):\n",
    "    print('REVIEW:', review)\n",
    "    print('Actual Sentiment:', sentiment)\n",
    "    print('Predicted Sentiment polarity:', textblob.TextBlob(review).sentiment.polarity)\n",
    "    print('-'*60)"
   ]
  },
  {
   "cell_type": "code",
   "execution_count": 63,
   "metadata": {},
   "outputs": [],
   "source": [
    "sentiment_polarity = [textblob.TextBlob(review).sentiment.polarity for review in test_reviews]"
   ]
  },
  {
   "cell_type": "code",
   "execution_count": 64,
   "metadata": {},
   "outputs": [
    {
     "data": {
      "text/plain": [
       "[0.054500000000000035,\n",
       " 0.0885942760942761,\n",
       " 0.5,\n",
       " 0.125,\n",
       " 0.09553921568627452,\n",
       " -0.3453703703703703,\n",
       " -0.008999999999999985,\n",
       " 0.30185185185185187,\n",
       " 0.1277777777777778,\n",
       " 0.21141414141414142,\n",
       " 0.38636363636363635,\n",
       " 0.09999999999999999,\n",
       " 0.21999999999999997,\n",
       " 0.09175925925925926,\n",
       " 0.011800334168755214,\n",
       " -0.21999999999999997,\n",
       " -0.0016741071428571389,\n",
       " 0.17153679653679657,\n",
       " -0.18154761904761904,\n",
       " -0.12337662337662336,\n",
       " -0.07314814814814813,\n",
       " -0.369047619047619,\n",
       " 0.0,\n",
       " -0.03541666666666665,\n",
       " 0.0,\n",
       " -0.20833333333333334,\n",
       " -0.203125,\n",
       " -0.27037599497276915,\n",
       " 0.023295454545454522,\n",
       " 0.25384615384615383,\n",
       " 0.05,\n",
       " 0.14537037037037037,\n",
       " 0.08559027777777778,\n",
       " -0.3306175595238095,\n",
       " 0.5499999999999999,\n",
       " 0.41875,\n",
       " -0.22592592592592592,\n",
       " 0.15952380952380954,\n",
       " 0.21000000000000002,\n",
       " -0.0634920634920635]"
      ]
     },
     "execution_count": 64,
     "metadata": {},
     "output_type": "execute_result"
    }
   ],
   "source": [
    "sentiment_polarity"
   ]
  },
  {
   "cell_type": "code",
   "execution_count": 65,
   "metadata": {},
   "outputs": [],
   "source": [
    "predicted_sentiments = ['Low' if score <= -0.1 else 'Average' if score <= 0.25 else 'Median' if score <= 0.4 else 'High'\n",
    "                        for score in sentiment_polarity]"
   ]
  },
  {
   "cell_type": "code",
   "execution_count": 66,
   "metadata": {},
   "outputs": [
    {
     "data": {
      "text/plain": [
       "array([[ 7,  0,  1,  1],\n",
       "       [ 3,  2,  0,  2],\n",
       "       [11,  1,  9,  0],\n",
       "       [ 3,  0,  0,  0]], dtype=int64)"
      ]
     },
     "execution_count": 66,
     "metadata": {},
     "output_type": "execute_result"
    }
   ],
   "source": [
    "from sklearn.metrics import confusion_matrix\n",
    "\n",
    "confusion_matrix(test_sentiments, predicted_sentiments)"
   ]
  },
  {
   "cell_type": "code",
   "execution_count": 67,
   "metadata": {},
   "outputs": [],
   "source": [
    "#!pip install afinn"
   ]
  },
  {
   "cell_type": "code",
   "execution_count": 68,
   "metadata": {},
   "outputs": [],
   "source": [
    "from afinn import Afinn"
   ]
  },
  {
   "cell_type": "code",
   "execution_count": 69,
   "metadata": {},
   "outputs": [],
   "source": [
    "afn = Afinn(emoticons=True)"
   ]
  },
  {
   "cell_type": "code",
   "execution_count": 70,
   "metadata": {},
   "outputs": [
    {
     "name": "stdout",
     "output_type": "stream",
     "text": [
      "REVIEW: A 3 for the romance, a 2 for the comedy and a little bit more for the score. the actors are good at talking, but not stalking.its just one of those senior high movie-stuff, not as crazy and stupid as the main stream romcom, but it doesnt reach deep into your heart. its like booksmart, everything happens within 24 hours, and its like''the last nigt of the pranks''.it has a story of love and happiness, but it doesnt fondle above the knee of what the grumpy old man holds as a standard for these kind of movies. so if you like to learn some high school anarchistic pranks, then be my guest, for the rest its for the rainy sunday afternoon. a weak 6.\n",
      "Actual Sentiment: Median\n",
      "Predicted Sentiment polarity: 12.0\n",
      "------------------------------------------------------------\n",
      "REVIEW: Considering the culture of the world in 2020 and how things are shaping, this movie feels like it would have been great had it been made 20 years ago. The problems the characters face are totally unrelatable to 99% of the population. It is as if the creators have been stuck in a time machine and still believe going to college and fulfilling our parents expectations are still relevant problems. They are, but they have been rehashed hundreds of times in the past.The only forgiving things this movie has going for it is it is midly entertaining. I also liked that the main character has dynamic morals and is willing to listen and learn.\n",
      "Actual Sentiment: Average\n",
      "Predicted Sentiment polarity: 4.0\n",
      "------------------------------------------------------------\n",
      "REVIEW: It is dull with an uninspired story line, questionable acting and an ending you can predict in the first 10 minutes.\n",
      "Actual Sentiment: Low\n",
      "Predicted Sentiment polarity: -6.0\n",
      "------------------------------------------------------------\n",
      "REVIEW: It was a good comedy film. Was it a masterliece? No! However, I enjoyed it & it made me laugh.... I have no idea why people are giving this movie so low ratings!\n",
      "Actual Sentiment: High\n",
      "Predicted Sentiment polarity: 5.0\n",
      "------------------------------------------------------------\n"
     ]
    }
   ],
   "source": [
    "for review, sentiment in zip(test_reviews[sample_review_ids], test_sentiments[sample_review_ids]):\n",
    "    print('REVIEW:', review)\n",
    "    print('Actual Sentiment:', sentiment)\n",
    "    print('Predicted Sentiment polarity:', afn.score(review))\n",
    "    print('-'*60)"
   ]
  }
 ],
 "metadata": {
  "kernelspec": {
   "display_name": "Python 3",
   "language": "python",
   "name": "python3"
  },
  "language_info": {
   "codemirror_mode": {
    "name": "ipython",
    "version": 3
   },
   "file_extension": ".py",
   "mimetype": "text/x-python",
   "name": "python",
   "nbconvert_exporter": "python",
   "pygments_lexer": "ipython3",
   "version": "3.7.3"
  }
 },
 "nbformat": 4,
 "nbformat_minor": 4
}

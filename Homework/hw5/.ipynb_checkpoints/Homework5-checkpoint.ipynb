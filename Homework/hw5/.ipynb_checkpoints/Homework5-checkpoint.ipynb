{
 "cells": [
  {
   "cell_type": "code",
   "execution_count": 9,
   "metadata": {},
   "outputs": [],
   "source": [
    "import spacy\n",
    "nlp = spacy.load(\"en_core_web_md\")"
   ]
  },
  {
   "cell_type": "code",
   "execution_count": 7,
   "metadata": {},
   "outputs": [],
   "source": [
    "from tensorflow.keras.datasets import imdb"
   ]
  },
  {
   "cell_type": "code",
   "execution_count": 8,
   "metadata": {},
   "outputs": [],
   "source": [
    "words=[]\n",
    "word_index = imdb.get_word_index()\n",
    "for i in word_index:\n",
    "    if word_index[i] <= 5000:\n",
    "        words.append(i)"
   ]
  },
  {
   "cell_type": "code",
   "execution_count": 9,
   "metadata": {},
   "outputs": [
    {
     "data": {
      "text/plain": [
       "5000"
      ]
     },
     "execution_count": 9,
     "metadata": {},
     "output_type": "execute_result"
    }
   ],
   "source": [
    "len(words)"
   ]
  },
  {
   "cell_type": "markdown",
   "metadata": {},
   "source": [
    "Note: From scratch means you must do all the math.  No special functions like np.dot() or np.norm()\n",
    "\n",
    "Question 1:  From scratch write a funtion that computes the dot product of any two vectors.  Ensure that your function checks to make sure the vectors can form a dot product."
   ]
  },
  {
   "cell_type": "markdown",
   "metadata": {},
   "source": [
    "## Answer: "
   ]
  },
  {
   "cell_type": "markdown",
   "metadata": {},
   "source": [
    "### A function is developed that reads in both the words and gets the vector fo them. It then uses the enumeration function to calculate the dot product and returns it."
   ]
  },
  {
   "cell_type": "markdown",
   "metadata": {},
   "source": [
    "### Also a way is implemented to check if the vectors can form dot product ie. checking the length of both the vectors and the expectation is that they are same. "
   ]
  },
  {
   "cell_type": "code",
   "execution_count": 10,
   "metadata": {},
   "outputs": [],
   "source": [
    "def dot_prod(w1,w2):\n",
    "    word_1 = nlp(w1)\n",
    "    word_2 = nlp(w2)\n",
    "    doc1 = word_1.vector\n",
    "    doc2 = word_2.vector\n",
    "    prod = []\n",
    "    if(len(doc1) != len(doc2)):\n",
    "        return -1\n",
    "    for i, v in enumerate(doc1):\n",
    "        prod.append(v * doc2[i])\n",
    "    return sum(prod)"
   ]
  },
  {
   "cell_type": "markdown",
   "metadata": {},
   "source": [
    "Question 2: From scratch write a function that computes the length of any vector"
   ]
  },
  {
   "cell_type": "markdown",
   "metadata": {},
   "source": [
    "## Answer:"
   ]
  },
  {
   "cell_type": "markdown",
   "metadata": {},
   "source": [
    "### Function has been developed to calculate the length aka magnitude of the vector. The principle that is used is to calculate the square root of the sum of the squares of the elements within the vector. For example if the vector is [1,3,5] then the magnitude is sqrt(1*1 + 2*2 + 3*3)"
   ]
  },
  {
   "cell_type": "code",
   "execution_count": 12,
   "metadata": {},
   "outputs": [],
   "source": [
    "import math\n",
    "def length(w1):\n",
    "    word_1 = nlp(w1)\n",
    "  \n",
    "    doc1 = word_1.vector\n",
    "   \n",
    "    len1 = 0\n",
    "   \n",
    "    for i, v in enumerate(doc1):\n",
    "        len1 = len1 + ((v * v))\n",
    "          \n",
    "    return math.sqrt(len1)"
   ]
  },
  {
   "cell_type": "markdown",
   "metadata": {},
   "source": [
    "Question 3: Write a function that returns the cosine similarity of two vectors.  Once again, check to make sure that a cosine similarity can exist.  You may use your previous answers to Q1 and Q2"
   ]
  },
  {
   "cell_type": "markdown",
   "metadata": {},
   "source": [
    "## Answer:"
   ]
  },
  {
   "cell_type": "markdown",
   "metadata": {},
   "source": [
    "### The functions above are reused to calculate the cosine similarity. Cosine similarity is obtained by dividing the dot produt of two vectors by the product of their magnitudes. The function below does this."
   ]
  },
  {
   "cell_type": "code",
   "execution_count": 13,
   "metadata": {},
   "outputs": [],
   "source": [
    "def cos_sim(w1, w2):\n",
    "    dot = dot_prod(w1,w2)\n",
    "    len1 = length(w1)\n",
    "    len2 = length(w2)\n",
    "    leng = len1 * len2\n",
    "    sim = dot/leng\n",
    "    return sim"
   ]
  },
  {
   "cell_type": "markdown",
   "metadata": {},
   "source": [
    "### First let us use the functions to calculate the cosine similarity of two words. We will then use the nlp similarity function to verify if our functions do what they are supposed to."
   ]
  },
  {
   "cell_type": "code",
   "execution_count": 14,
   "metadata": {},
   "outputs": [
    {
     "data": {
      "text/plain": [
       "0.24595192662717882"
      ]
     },
     "execution_count": 14,
     "metadata": {},
     "output_type": "execute_result"
    }
   ],
   "source": [
    "cos_sim(\"blue\",\"word\")"
   ]
  },
  {
   "cell_type": "code",
   "execution_count": 15,
   "metadata": {},
   "outputs": [
    {
     "data": {
      "text/plain": [
       "0.2459519403788443"
      ]
     },
     "execution_count": 15,
     "metadata": {},
     "output_type": "execute_result"
    }
   ],
   "source": [
    "nlp(\"blue\").similarity(nlp(\"word\"))"
   ]
  },
  {
   "cell_type": "markdown",
   "metadata": {},
   "source": [
    "### As we can see from the results above, the cosine similarity calculated using the functions and the nlp similarity function yield the same value"
   ]
  },
  {
   "cell_type": "markdown",
   "metadata": {},
   "source": [
    "Q4:  Check your answer for several words in the words list using the spacy similarity functionality.  "
   ]
  },
  {
   "cell_type": "markdown",
   "metadata": {},
   "source": [
    "## Answer:"
   ]
  },
  {
   "cell_type": "markdown",
   "metadata": {},
   "source": [
    "### Let us check the for the similarity for the following word pairs, first using the functions developed and then using nlp similarity function\n",
    "### (cricket, soccer)\n",
    "### (battle, war)\n",
    "### (making, preparing)\n",
    "### (music, notes)\n",
    "### (physician, doctor)\n",
    "### (annoying, frustrating)"
   ]
  },
  {
   "cell_type": "code",
   "execution_count": 16,
   "metadata": {},
   "outputs": [
    {
     "data": {
      "text/plain": [
       "0.5282393175638731"
      ]
     },
     "execution_count": 16,
     "metadata": {},
     "output_type": "execute_result"
    }
   ],
   "source": [
    "cos_sim(\"cricket\",\"soccer\")"
   ]
  },
  {
   "cell_type": "code",
   "execution_count": 17,
   "metadata": {},
   "outputs": [
    {
     "data": {
      "text/plain": [
       "0.5282393362397071"
      ]
     },
     "execution_count": 17,
     "metadata": {},
     "output_type": "execute_result"
    }
   ],
   "source": [
    "nlp(\"cricket\").similarity(nlp(\"soccer\"))"
   ]
  },
  {
   "cell_type": "code",
   "execution_count": 18,
   "metadata": {},
   "outputs": [
    {
     "data": {
      "text/plain": [
       "0.6508612022018521"
      ]
     },
     "execution_count": 18,
     "metadata": {},
     "output_type": "execute_result"
    }
   ],
   "source": [
    "cos_sim(\"battle\",\"war\")"
   ]
  },
  {
   "cell_type": "code",
   "execution_count": 19,
   "metadata": {},
   "outputs": [
    {
     "data": {
      "text/plain": [
       "0.6508612303588959"
      ]
     },
     "execution_count": 19,
     "metadata": {},
     "output_type": "execute_result"
    }
   ],
   "source": [
    "nlp(\"battle\").similarity(nlp(\"war\"))"
   ]
  },
  {
   "cell_type": "code",
   "execution_count": 20,
   "metadata": {},
   "outputs": [
    {
     "data": {
      "text/plain": [
       "0.5915259342575641"
      ]
     },
     "execution_count": 20,
     "metadata": {},
     "output_type": "execute_result"
    }
   ],
   "source": [
    "cos_sim(\"preparing\",\"making\")"
   ]
  },
  {
   "cell_type": "code",
   "execution_count": 21,
   "metadata": {},
   "outputs": [
    {
     "data": {
      "text/plain": [
       "0.5915259280668556"
      ]
     },
     "execution_count": 21,
     "metadata": {},
     "output_type": "execute_result"
    }
   ],
   "source": [
    "nlp(\"preparing\").similarity(nlp(\"making\"))"
   ]
  },
  {
   "cell_type": "code",
   "execution_count": 22,
   "metadata": {},
   "outputs": [
    {
     "data": {
      "text/plain": [
       "0.27982456756011115"
      ]
     },
     "execution_count": 22,
     "metadata": {},
     "output_type": "execute_result"
    }
   ],
   "source": [
    "cos_sim(\"music\",\"notes\")"
   ]
  },
  {
   "cell_type": "code",
   "execution_count": 23,
   "metadata": {},
   "outputs": [
    {
     "data": {
      "text/plain": [
       "0.2798245633515026"
      ]
     },
     "execution_count": 23,
     "metadata": {},
     "output_type": "execute_result"
    }
   ],
   "source": [
    "nlp(\"music\").similarity(nlp(\"notes\"))"
   ]
  },
  {
   "cell_type": "code",
   "execution_count": 24,
   "metadata": {},
   "outputs": [
    {
     "data": {
      "text/plain": [
       "0.7932126228027806"
      ]
     },
     "execution_count": 24,
     "metadata": {},
     "output_type": "execute_result"
    }
   ],
   "source": [
    "cos_sim(\"physican\",\"doctor\")"
   ]
  },
  {
   "cell_type": "code",
   "execution_count": 25,
   "metadata": {},
   "outputs": [
    {
     "data": {
      "text/plain": [
       "0.7932126019198759"
      ]
     },
     "execution_count": 25,
     "metadata": {},
     "output_type": "execute_result"
    }
   ],
   "source": [
    "nlp(\"physican\").similarity(nlp(\"doctor\"))"
   ]
  },
  {
   "cell_type": "code",
   "execution_count": 26,
   "metadata": {},
   "outputs": [
    {
     "data": {
      "text/plain": [
       "0.684364918938367"
      ]
     },
     "execution_count": 26,
     "metadata": {},
     "output_type": "execute_result"
    }
   ],
   "source": [
    "cos_sim(\"annoying\",\"frustrating\")"
   ]
  },
  {
   "cell_type": "code",
   "execution_count": 27,
   "metadata": {},
   "outputs": [
    {
     "data": {
      "text/plain": [
       "0.684364864445656"
      ]
     },
     "execution_count": 27,
     "metadata": {},
     "output_type": "execute_result"
    }
   ],
   "source": [
    "nlp(\"annoying\").similarity(nlp(\"frustrating\"))"
   ]
  },
  {
   "cell_type": "markdown",
   "metadata": {},
   "source": [
    "### In all the examples above, the function and the nlp similarity function return the same values."
   ]
  },
  {
   "cell_type": "markdown",
   "metadata": {},
   "source": [
    "Run the code below.  Check the similarity between the top 10 words in Glove aka spacy and the embedding matrix.  Don't forget the offset in the data where \"the\" is index = 3.  This may take 15 mis to train"
   ]
  },
  {
   "cell_type": "code",
   "execution_count": null,
   "metadata": {},
   "outputs": [],
   "source": []
  },
  {
   "cell_type": "code",
   "execution_count": 3,
   "metadata": {
    "scrolled": true
   },
   "outputs": [
    {
     "name": "stdout",
     "output_type": "stream",
     "text": [
      "Model: \"sequential\"\n",
      "_________________________________________________________________\n",
      "Layer (type)                 Output Shape              Param #   \n",
      "=================================================================\n",
      "embedding (Embedding)        (None, 500, 300)          1500000   \n",
      "_________________________________________________________________\n",
      "lstm (LSTM)                  (None, 500)               1602000   \n",
      "_________________________________________________________________\n",
      "dense (Dense)                (None, 1)                 501       \n",
      "=================================================================\n",
      "Total params: 3,102,501\n",
      "Trainable params: 3,102,501\n",
      "Non-trainable params: 0\n",
      "_________________________________________________________________\n",
      "None\n",
      "Train on 25000 samples, validate on 25000 samples\n",
      "Epoch 1/3\n",
      " 8192/25000 [========>.....................] - ETA: 1:54:36 - loss: 0.6519 - accuracy: 0.6329"
     ]
    },
    {
     "ename": "KeyboardInterrupt",
     "evalue": "",
     "output_type": "error",
     "traceback": [
      "\u001b[1;31m---------------------------------------------------------------------------\u001b[0m",
      "\u001b[1;31mKeyboardInterrupt\u001b[0m                         Traceback (most recent call last)",
      "\u001b[1;32m<ipython-input-3-ca3cfdcf9833>\u001b[0m in \u001b[0;36m<module>\u001b[1;34m\u001b[0m\n\u001b[0;32m     27\u001b[0m \u001b[0mmodel2\u001b[0m\u001b[1;33m.\u001b[0m\u001b[0mcompile\u001b[0m\u001b[1;33m(\u001b[0m\u001b[0mloss\u001b[0m\u001b[1;33m=\u001b[0m\u001b[1;34m'binary_crossentropy'\u001b[0m\u001b[1;33m,\u001b[0m \u001b[0moptimizer\u001b[0m\u001b[1;33m=\u001b[0m\u001b[1;34m'adam'\u001b[0m\u001b[1;33m,\u001b[0m \u001b[0mmetrics\u001b[0m\u001b[1;33m=\u001b[0m\u001b[1;33m[\u001b[0m\u001b[1;34m'accuracy'\u001b[0m\u001b[1;33m]\u001b[0m\u001b[1;33m)\u001b[0m\u001b[1;33m\u001b[0m\u001b[1;33m\u001b[0m\u001b[0m\n\u001b[0;32m     28\u001b[0m \u001b[0mprint\u001b[0m\u001b[1;33m(\u001b[0m\u001b[0mmodel2\u001b[0m\u001b[1;33m.\u001b[0m\u001b[0msummary\u001b[0m\u001b[1;33m(\u001b[0m\u001b[1;33m)\u001b[0m\u001b[1;33m)\u001b[0m\u001b[1;33m\u001b[0m\u001b[1;33m\u001b[0m\u001b[0m\n\u001b[1;32m---> 29\u001b[1;33m \u001b[0mmodel2\u001b[0m\u001b[1;33m.\u001b[0m\u001b[0mfit\u001b[0m\u001b[1;33m(\u001b[0m\u001b[0mX_train\u001b[0m\u001b[1;33m,\u001b[0m \u001b[0my_train\u001b[0m\u001b[1;33m,\u001b[0m \u001b[0mvalidation_data\u001b[0m\u001b[1;33m=\u001b[0m\u001b[1;33m(\u001b[0m\u001b[0mX_test\u001b[0m\u001b[1;33m,\u001b[0m \u001b[0my_test\u001b[0m\u001b[1;33m)\u001b[0m\u001b[1;33m,\u001b[0m \u001b[0mepochs\u001b[0m\u001b[1;33m=\u001b[0m\u001b[1;36m3\u001b[0m\u001b[1;33m,\u001b[0m \u001b[0mbatch_size\u001b[0m\u001b[1;33m=\u001b[0m\u001b[1;36m128\u001b[0m\u001b[1;33m)\u001b[0m\u001b[1;33m\u001b[0m\u001b[1;33m\u001b[0m\u001b[0m\n\u001b[0m",
      "\u001b[1;32m~\\Anaconda3\\envs\\getty_proj\\lib\\site-packages\\tensorflow_core\\python\\keras\\engine\\training.py\u001b[0m in \u001b[0;36mfit\u001b[1;34m(self, x, y, batch_size, epochs, verbose, callbacks, validation_split, validation_data, shuffle, class_weight, sample_weight, initial_epoch, steps_per_epoch, validation_steps, validation_freq, max_queue_size, workers, use_multiprocessing, **kwargs)\u001b[0m\n\u001b[0;32m    726\u001b[0m         \u001b[0mmax_queue_size\u001b[0m\u001b[1;33m=\u001b[0m\u001b[0mmax_queue_size\u001b[0m\u001b[1;33m,\u001b[0m\u001b[1;33m\u001b[0m\u001b[1;33m\u001b[0m\u001b[0m\n\u001b[0;32m    727\u001b[0m         \u001b[0mworkers\u001b[0m\u001b[1;33m=\u001b[0m\u001b[0mworkers\u001b[0m\u001b[1;33m,\u001b[0m\u001b[1;33m\u001b[0m\u001b[1;33m\u001b[0m\u001b[0m\n\u001b[1;32m--> 728\u001b[1;33m         use_multiprocessing=use_multiprocessing)\n\u001b[0m\u001b[0;32m    729\u001b[0m \u001b[1;33m\u001b[0m\u001b[0m\n\u001b[0;32m    730\u001b[0m   def evaluate(self,\n",
      "\u001b[1;32m~\\Anaconda3\\envs\\getty_proj\\lib\\site-packages\\tensorflow_core\\python\\keras\\engine\\training_v2.py\u001b[0m in \u001b[0;36mfit\u001b[1;34m(self, model, x, y, batch_size, epochs, verbose, callbacks, validation_split, validation_data, shuffle, class_weight, sample_weight, initial_epoch, steps_per_epoch, validation_steps, validation_freq, **kwargs)\u001b[0m\n\u001b[0;32m    322\u001b[0m                 \u001b[0mmode\u001b[0m\u001b[1;33m=\u001b[0m\u001b[0mModeKeys\u001b[0m\u001b[1;33m.\u001b[0m\u001b[0mTRAIN\u001b[0m\u001b[1;33m,\u001b[0m\u001b[1;33m\u001b[0m\u001b[1;33m\u001b[0m\u001b[0m\n\u001b[0;32m    323\u001b[0m                 \u001b[0mtraining_context\u001b[0m\u001b[1;33m=\u001b[0m\u001b[0mtraining_context\u001b[0m\u001b[1;33m,\u001b[0m\u001b[1;33m\u001b[0m\u001b[1;33m\u001b[0m\u001b[0m\n\u001b[1;32m--> 324\u001b[1;33m                 total_epochs=epochs)\n\u001b[0m\u001b[0;32m    325\u001b[0m             \u001b[0mcbks\u001b[0m\u001b[1;33m.\u001b[0m\u001b[0mmake_logs\u001b[0m\u001b[1;33m(\u001b[0m\u001b[0mmodel\u001b[0m\u001b[1;33m,\u001b[0m \u001b[0mepoch_logs\u001b[0m\u001b[1;33m,\u001b[0m \u001b[0mtraining_result\u001b[0m\u001b[1;33m,\u001b[0m \u001b[0mModeKeys\u001b[0m\u001b[1;33m.\u001b[0m\u001b[0mTRAIN\u001b[0m\u001b[1;33m)\u001b[0m\u001b[1;33m\u001b[0m\u001b[1;33m\u001b[0m\u001b[0m\n\u001b[0;32m    326\u001b[0m \u001b[1;33m\u001b[0m\u001b[0m\n",
      "\u001b[1;32m~\\Anaconda3\\envs\\getty_proj\\lib\\site-packages\\tensorflow_core\\python\\keras\\engine\\training_v2.py\u001b[0m in \u001b[0;36mrun_one_epoch\u001b[1;34m(model, iterator, execution_function, dataset_size, batch_size, strategy, steps_per_epoch, num_samples, mode, training_context, total_epochs)\u001b[0m\n\u001b[0;32m    121\u001b[0m         step=step, mode=mode, size=current_batch_size) as batch_logs:\n\u001b[0;32m    122\u001b[0m       \u001b[1;32mtry\u001b[0m\u001b[1;33m:\u001b[0m\u001b[1;33m\u001b[0m\u001b[1;33m\u001b[0m\u001b[0m\n\u001b[1;32m--> 123\u001b[1;33m         \u001b[0mbatch_outs\u001b[0m \u001b[1;33m=\u001b[0m \u001b[0mexecution_function\u001b[0m\u001b[1;33m(\u001b[0m\u001b[0miterator\u001b[0m\u001b[1;33m)\u001b[0m\u001b[1;33m\u001b[0m\u001b[1;33m\u001b[0m\u001b[0m\n\u001b[0m\u001b[0;32m    124\u001b[0m       \u001b[1;32mexcept\u001b[0m \u001b[1;33m(\u001b[0m\u001b[0mStopIteration\u001b[0m\u001b[1;33m,\u001b[0m \u001b[0merrors\u001b[0m\u001b[1;33m.\u001b[0m\u001b[0mOutOfRangeError\u001b[0m\u001b[1;33m)\u001b[0m\u001b[1;33m:\u001b[0m\u001b[1;33m\u001b[0m\u001b[1;33m\u001b[0m\u001b[0m\n\u001b[0;32m    125\u001b[0m         \u001b[1;31m# TODO(kaftan): File bug about tf function and errors.OutOfRangeError?\u001b[0m\u001b[1;33m\u001b[0m\u001b[1;33m\u001b[0m\u001b[1;33m\u001b[0m\u001b[0m\n",
      "\u001b[1;32m~\\Anaconda3\\envs\\getty_proj\\lib\\site-packages\\tensorflow_core\\python\\keras\\engine\\training_v2_utils.py\u001b[0m in \u001b[0;36mexecution_function\u001b[1;34m(input_fn)\u001b[0m\n\u001b[0;32m     84\u001b[0m     \u001b[1;31m# `numpy` translates Tensors to values in Eager mode.\u001b[0m\u001b[1;33m\u001b[0m\u001b[1;33m\u001b[0m\u001b[1;33m\u001b[0m\u001b[0m\n\u001b[0;32m     85\u001b[0m     return nest.map_structure(_non_none_constant_value,\n\u001b[1;32m---> 86\u001b[1;33m                               distributed_function(input_fn))\n\u001b[0m\u001b[0;32m     87\u001b[0m \u001b[1;33m\u001b[0m\u001b[0m\n\u001b[0;32m     88\u001b[0m   \u001b[1;32mreturn\u001b[0m \u001b[0mexecution_function\u001b[0m\u001b[1;33m\u001b[0m\u001b[1;33m\u001b[0m\u001b[0m\n",
      "\u001b[1;32m~\\Anaconda3\\envs\\getty_proj\\lib\\site-packages\\tensorflow_core\\python\\eager\\def_function.py\u001b[0m in \u001b[0;36m__call__\u001b[1;34m(self, *args, **kwds)\u001b[0m\n\u001b[0;32m    455\u001b[0m \u001b[1;33m\u001b[0m\u001b[0m\n\u001b[0;32m    456\u001b[0m     \u001b[0mtracing_count\u001b[0m \u001b[1;33m=\u001b[0m \u001b[0mself\u001b[0m\u001b[1;33m.\u001b[0m\u001b[0m_get_tracing_count\u001b[0m\u001b[1;33m(\u001b[0m\u001b[1;33m)\u001b[0m\u001b[1;33m\u001b[0m\u001b[1;33m\u001b[0m\u001b[0m\n\u001b[1;32m--> 457\u001b[1;33m     \u001b[0mresult\u001b[0m \u001b[1;33m=\u001b[0m \u001b[0mself\u001b[0m\u001b[1;33m.\u001b[0m\u001b[0m_call\u001b[0m\u001b[1;33m(\u001b[0m\u001b[1;33m*\u001b[0m\u001b[0margs\u001b[0m\u001b[1;33m,\u001b[0m \u001b[1;33m**\u001b[0m\u001b[0mkwds\u001b[0m\u001b[1;33m)\u001b[0m\u001b[1;33m\u001b[0m\u001b[1;33m\u001b[0m\u001b[0m\n\u001b[0m\u001b[0;32m    458\u001b[0m     \u001b[1;32mif\u001b[0m \u001b[0mtracing_count\u001b[0m \u001b[1;33m==\u001b[0m \u001b[0mself\u001b[0m\u001b[1;33m.\u001b[0m\u001b[0m_get_tracing_count\u001b[0m\u001b[1;33m(\u001b[0m\u001b[1;33m)\u001b[0m\u001b[1;33m:\u001b[0m\u001b[1;33m\u001b[0m\u001b[1;33m\u001b[0m\u001b[0m\n\u001b[0;32m    459\u001b[0m       \u001b[0mself\u001b[0m\u001b[1;33m.\u001b[0m\u001b[0m_call_counter\u001b[0m\u001b[1;33m.\u001b[0m\u001b[0mcalled_without_tracing\u001b[0m\u001b[1;33m(\u001b[0m\u001b[1;33m)\u001b[0m\u001b[1;33m\u001b[0m\u001b[1;33m\u001b[0m\u001b[0m\n",
      "\u001b[1;32m~\\Anaconda3\\envs\\getty_proj\\lib\\site-packages\\tensorflow_core\\python\\eager\\def_function.py\u001b[0m in \u001b[0;36m_call\u001b[1;34m(self, *args, **kwds)\u001b[0m\n\u001b[0;32m    485\u001b[0m       \u001b[1;31m# In this case we have created variables on the first call, so we run the\u001b[0m\u001b[1;33m\u001b[0m\u001b[1;33m\u001b[0m\u001b[1;33m\u001b[0m\u001b[0m\n\u001b[0;32m    486\u001b[0m       \u001b[1;31m# defunned version which is guaranteed to never create variables.\u001b[0m\u001b[1;33m\u001b[0m\u001b[1;33m\u001b[0m\u001b[1;33m\u001b[0m\u001b[0m\n\u001b[1;32m--> 487\u001b[1;33m       \u001b[1;32mreturn\u001b[0m \u001b[0mself\u001b[0m\u001b[1;33m.\u001b[0m\u001b[0m_stateless_fn\u001b[0m\u001b[1;33m(\u001b[0m\u001b[1;33m*\u001b[0m\u001b[0margs\u001b[0m\u001b[1;33m,\u001b[0m \u001b[1;33m**\u001b[0m\u001b[0mkwds\u001b[0m\u001b[1;33m)\u001b[0m  \u001b[1;31m# pylint: disable=not-callable\u001b[0m\u001b[1;33m\u001b[0m\u001b[1;33m\u001b[0m\u001b[0m\n\u001b[0m\u001b[0;32m    488\u001b[0m     \u001b[1;32melif\u001b[0m \u001b[0mself\u001b[0m\u001b[1;33m.\u001b[0m\u001b[0m_stateful_fn\u001b[0m \u001b[1;32mis\u001b[0m \u001b[1;32mnot\u001b[0m \u001b[1;32mNone\u001b[0m\u001b[1;33m:\u001b[0m\u001b[1;33m\u001b[0m\u001b[1;33m\u001b[0m\u001b[0m\n\u001b[0;32m    489\u001b[0m       \u001b[1;31m# Release the lock early so that multiple threads can perform the call\u001b[0m\u001b[1;33m\u001b[0m\u001b[1;33m\u001b[0m\u001b[1;33m\u001b[0m\u001b[0m\n",
      "\u001b[1;32m~\\Anaconda3\\envs\\getty_proj\\lib\\site-packages\\tensorflow_core\\python\\eager\\function.py\u001b[0m in \u001b[0;36m__call__\u001b[1;34m(self, *args, **kwargs)\u001b[0m\n\u001b[0;32m   1821\u001b[0m     \u001b[1;34m\"\"\"Calls a graph function specialized to the inputs.\"\"\"\u001b[0m\u001b[1;33m\u001b[0m\u001b[1;33m\u001b[0m\u001b[0m\n\u001b[0;32m   1822\u001b[0m     \u001b[0mgraph_function\u001b[0m\u001b[1;33m,\u001b[0m \u001b[0margs\u001b[0m\u001b[1;33m,\u001b[0m \u001b[0mkwargs\u001b[0m \u001b[1;33m=\u001b[0m \u001b[0mself\u001b[0m\u001b[1;33m.\u001b[0m\u001b[0m_maybe_define_function\u001b[0m\u001b[1;33m(\u001b[0m\u001b[0margs\u001b[0m\u001b[1;33m,\u001b[0m \u001b[0mkwargs\u001b[0m\u001b[1;33m)\u001b[0m\u001b[1;33m\u001b[0m\u001b[1;33m\u001b[0m\u001b[0m\n\u001b[1;32m-> 1823\u001b[1;33m     \u001b[1;32mreturn\u001b[0m \u001b[0mgraph_function\u001b[0m\u001b[1;33m.\u001b[0m\u001b[0m_filtered_call\u001b[0m\u001b[1;33m(\u001b[0m\u001b[0margs\u001b[0m\u001b[1;33m,\u001b[0m \u001b[0mkwargs\u001b[0m\u001b[1;33m)\u001b[0m  \u001b[1;31m# pylint: disable=protected-access\u001b[0m\u001b[1;33m\u001b[0m\u001b[1;33m\u001b[0m\u001b[0m\n\u001b[0m\u001b[0;32m   1824\u001b[0m \u001b[1;33m\u001b[0m\u001b[0m\n\u001b[0;32m   1825\u001b[0m   \u001b[1;33m@\u001b[0m\u001b[0mproperty\u001b[0m\u001b[1;33m\u001b[0m\u001b[1;33m\u001b[0m\u001b[0m\n",
      "\u001b[1;32m~\\Anaconda3\\envs\\getty_proj\\lib\\site-packages\\tensorflow_core\\python\\eager\\function.py\u001b[0m in \u001b[0;36m_filtered_call\u001b[1;34m(self, args, kwargs)\u001b[0m\n\u001b[0;32m   1139\u001b[0m          if isinstance(t, (ops.Tensor,\n\u001b[0;32m   1140\u001b[0m                            resource_variable_ops.BaseResourceVariable))),\n\u001b[1;32m-> 1141\u001b[1;33m         self.captured_inputs)\n\u001b[0m\u001b[0;32m   1142\u001b[0m \u001b[1;33m\u001b[0m\u001b[0m\n\u001b[0;32m   1143\u001b[0m   \u001b[1;32mdef\u001b[0m \u001b[0m_call_flat\u001b[0m\u001b[1;33m(\u001b[0m\u001b[0mself\u001b[0m\u001b[1;33m,\u001b[0m \u001b[0margs\u001b[0m\u001b[1;33m,\u001b[0m \u001b[0mcaptured_inputs\u001b[0m\u001b[1;33m,\u001b[0m \u001b[0mcancellation_manager\u001b[0m\u001b[1;33m=\u001b[0m\u001b[1;32mNone\u001b[0m\u001b[1;33m)\u001b[0m\u001b[1;33m:\u001b[0m\u001b[1;33m\u001b[0m\u001b[1;33m\u001b[0m\u001b[0m\n",
      "\u001b[1;32m~\\Anaconda3\\envs\\getty_proj\\lib\\site-packages\\tensorflow_core\\python\\eager\\function.py\u001b[0m in \u001b[0;36m_call_flat\u001b[1;34m(self, args, captured_inputs, cancellation_manager)\u001b[0m\n\u001b[0;32m   1222\u001b[0m     \u001b[1;32mif\u001b[0m \u001b[0mexecuting_eagerly\u001b[0m\u001b[1;33m:\u001b[0m\u001b[1;33m\u001b[0m\u001b[1;33m\u001b[0m\u001b[0m\n\u001b[0;32m   1223\u001b[0m       flat_outputs = forward_function.call(\n\u001b[1;32m-> 1224\u001b[1;33m           ctx, args, cancellation_manager=cancellation_manager)\n\u001b[0m\u001b[0;32m   1225\u001b[0m     \u001b[1;32melse\u001b[0m\u001b[1;33m:\u001b[0m\u001b[1;33m\u001b[0m\u001b[1;33m\u001b[0m\u001b[0m\n\u001b[0;32m   1226\u001b[0m       \u001b[0mgradient_name\u001b[0m \u001b[1;33m=\u001b[0m \u001b[0mself\u001b[0m\u001b[1;33m.\u001b[0m\u001b[0m_delayed_rewrite_functions\u001b[0m\u001b[1;33m.\u001b[0m\u001b[0mregister\u001b[0m\u001b[1;33m(\u001b[0m\u001b[1;33m)\u001b[0m\u001b[1;33m\u001b[0m\u001b[1;33m\u001b[0m\u001b[0m\n",
      "\u001b[1;32m~\\Anaconda3\\envs\\getty_proj\\lib\\site-packages\\tensorflow_core\\python\\eager\\function.py\u001b[0m in \u001b[0;36mcall\u001b[1;34m(self, ctx, args, cancellation_manager)\u001b[0m\n\u001b[0;32m    509\u001b[0m               \u001b[0minputs\u001b[0m\u001b[1;33m=\u001b[0m\u001b[0margs\u001b[0m\u001b[1;33m,\u001b[0m\u001b[1;33m\u001b[0m\u001b[1;33m\u001b[0m\u001b[0m\n\u001b[0;32m    510\u001b[0m               \u001b[0mattrs\u001b[0m\u001b[1;33m=\u001b[0m\u001b[1;33m(\u001b[0m\u001b[1;34m\"executor_type\"\u001b[0m\u001b[1;33m,\u001b[0m \u001b[0mexecutor_type\u001b[0m\u001b[1;33m,\u001b[0m \u001b[1;34m\"config_proto\"\u001b[0m\u001b[1;33m,\u001b[0m \u001b[0mconfig\u001b[0m\u001b[1;33m)\u001b[0m\u001b[1;33m,\u001b[0m\u001b[1;33m\u001b[0m\u001b[1;33m\u001b[0m\u001b[0m\n\u001b[1;32m--> 511\u001b[1;33m               ctx=ctx)\n\u001b[0m\u001b[0;32m    512\u001b[0m         \u001b[1;32melse\u001b[0m\u001b[1;33m:\u001b[0m\u001b[1;33m\u001b[0m\u001b[1;33m\u001b[0m\u001b[0m\n\u001b[0;32m    513\u001b[0m           outputs = execute.execute_with_cancellation(\n",
      "\u001b[1;32m~\\Anaconda3\\envs\\getty_proj\\lib\\site-packages\\tensorflow_core\\python\\eager\\execute.py\u001b[0m in \u001b[0;36mquick_execute\u001b[1;34m(op_name, num_outputs, inputs, attrs, ctx, name)\u001b[0m\n\u001b[0;32m     59\u001b[0m     tensors = pywrap_tensorflow.TFE_Py_Execute(ctx._handle, device_name,\n\u001b[0;32m     60\u001b[0m                                                \u001b[0mop_name\u001b[0m\u001b[1;33m,\u001b[0m \u001b[0minputs\u001b[0m\u001b[1;33m,\u001b[0m \u001b[0mattrs\u001b[0m\u001b[1;33m,\u001b[0m\u001b[1;33m\u001b[0m\u001b[1;33m\u001b[0m\u001b[0m\n\u001b[1;32m---> 61\u001b[1;33m                                                num_outputs)\n\u001b[0m\u001b[0;32m     62\u001b[0m   \u001b[1;32mexcept\u001b[0m \u001b[0mcore\u001b[0m\u001b[1;33m.\u001b[0m\u001b[0m_NotOkStatusException\u001b[0m \u001b[1;32mas\u001b[0m \u001b[0me\u001b[0m\u001b[1;33m:\u001b[0m\u001b[1;33m\u001b[0m\u001b[1;33m\u001b[0m\u001b[0m\n\u001b[0;32m     63\u001b[0m     \u001b[1;32mif\u001b[0m \u001b[0mname\u001b[0m \u001b[1;32mis\u001b[0m \u001b[1;32mnot\u001b[0m \u001b[1;32mNone\u001b[0m\u001b[1;33m:\u001b[0m\u001b[1;33m\u001b[0m\u001b[1;33m\u001b[0m\u001b[0m\n",
      "\u001b[1;31mKeyboardInterrupt\u001b[0m: "
     ]
    }
   ],
   "source": [
    "import numpy\n",
    "import keras\n",
    "from tensorflow.keras.datasets import imdb\n",
    "from tensorflow.keras.models import Sequential\n",
    "from tensorflow.keras.layers import Dense\n",
    "from tensorflow.keras.layers import  LSTM as LSTM, SimpleRNN, GRU\n",
    "#from keras.layers import LSTM , SimpleRNN, GRU\n",
    "from tensorflow.keras.layers import Embedding\n",
    "from tensorflow.keras.preprocessing import sequence\n",
    "# fix random seed for reproducibility\n",
    "numpy.random.seed(7)\n",
    "\n",
    "# load the dataset but only keep the top n words, zero the rest\n",
    "top_words = 5000\n",
    "(X_train, y_train), (X_test, y_test) = imdb.load_data(num_words=top_words)\n",
    "\n",
    "# truncate and pad input sequences\n",
    "max_review_length = 500\n",
    "X_train = sequence.pad_sequences(X_train, maxlen=max_review_length)\n",
    "X_test = sequence.pad_sequences(X_test, maxlen=max_review_length)\n",
    "\n",
    "embedding_vecor_length = 300\n",
    "model2 = Sequential()\n",
    "model2.add(Embedding(top_words, embedding_vecor_length, input_length=max_review_length))\n",
    "model2.add(LSTM(500))\n",
    "model2.add(Dense(1, activation='sigmoid'))\n",
    "model2.compile(loss='binary_crossentropy', optimizer='adam', metrics=['accuracy'])\n",
    "print(model2.summary())\n",
    "model2.fit(X_train, y_train, validation_data=(X_test, y_test), epochs=3, batch_size=128)"
   ]
  },
  {
   "cell_type": "markdown",
   "metadata": {},
   "source": [
    "## For question 5, I have used Google Colab to run the model and saved the weights for the following words:\n",
    "## The, and, it, in, is, of, i, br, a, to\n",
    "\n",
    "### The weights are read as arrays and the cosine similarity of the weights from the model and the corresponding vector from spacy are calculated and reported"
   ]
  },
  {
   "cell_type": "code",
   "execution_count": 60,
   "metadata": {},
   "outputs": [
    {
     "data": {
      "image/jpeg": "[encoded data removed]",
      "text/plain": [
       "<IPython.core.display.Image object>"
      ]
     },
     "execution_count": 60,
     "metadata": {
      "image/jpeg": {
       "height": 500,
       "width": 500
      }
     },
     "output_type": "execute_result"
    }
   ],
   "source": [
    "from IPython.display import Image\n",
    "Image(filename = \"C:\\\\Users\\\\anant\\\\Documents\\\\NLP\\\\HW5\\\\google_colab_output.JPG\", width=500, height=500)"
   ]
  },
  {
   "cell_type": "code",
   "execution_count": 12,
   "metadata": {},
   "outputs": [],
   "source": [
    "import math\n",
    "def length1(w1):\n",
    "   \n",
    "   \n",
    "    len1 = 0\n",
    "   \n",
    "    for i, v in enumerate(w1):\n",
    "        len1 = len1 + ((v * v))\n",
    "          \n",
    "    return math.sqrt(len1)"
   ]
  },
  {
   "cell_type": "code",
   "execution_count": 26,
   "metadata": {},
   "outputs": [],
   "source": [
    "import array as arr\n",
    "word_i = arr.array('d',[-0.02533901,  0.02005415, -0.04631723,  0.04545151, -0.02345571,\n",
    "        0.01414005,  0.03901259,  0.01937962,  0.03621294,  0.02100438,\n",
    "        0.05128552, -0.01904675,  0.01587708,  0.032631  ,  0.02896696,\n",
    "       -0.0002078 , -0.03133931, -0.02213841,  0.01726006, -0.00564161,\n",
    "        0.04319703,  0.03142617,  0.02206379,  0.02253233,  0.02616518,\n",
    "       -0.0353031 ,  0.01839263, -0.01780803,  0.02615731, -0.03139319,\n",
    "       -0.0031084 ,  0.01563633,  0.0259531 , -0.01766719,  0.01617065,\n",
    "       -0.03939147, -0.02198615, -0.03295445,  0.02165189,  0.00258352,\n",
    "       -0.02326061,  0.05085342, -0.00528009, -0.02044315,  0.02111199,\n",
    "        0.00022982,  0.00190069, -0.0251136 , -0.03925323, -0.00758256,\n",
    "       -0.03544232,  0.02680886, -0.00727247,  0.00603958,  0.00029991,\n",
    "       -0.039476  , -0.02710363,  0.01717125, -0.02877927, -0.01303093,\n",
    "        0.00420548, -0.00334848,  0.03296375,  0.05346725, -0.0132512 ,\n",
    "       -0.01019225, -0.05086895, -0.03021044, -0.03673571, -0.03262126,\n",
    "       -0.05220366, -0.02076399,  0.01709047, -0.01523743,  0.01491481,\n",
    "        0.02422138, -0.00300578, -0.02183009, -0.0090323 , -0.03053611,\n",
    "        0.01122244, -0.00636   ,  0.01571016,  0.02617295, -0.03801806,\n",
    "        0.00889159,  0.01853183,  0.01321652, -0.04842682,  0.01175239,\n",
    "        0.03645818, -0.00953212, -0.02390979,  0.02508884, -0.0277264 ,\n",
    "       -0.03019229, -0.03943612,  0.0173872 , -0.03325579, -0.00409297,\n",
    "        0.02828899,  0.04523946,  0.03149667,  0.01344652,  0.04475568,\n",
    "       -0.01702197, -0.04333522,  0.02491175, -0.03140204,  0.04974583,\n",
    "       -0.01703968, -0.00299038,  0.02129566,  0.01513129,  0.04817985,\n",
    "       -0.00065853,  0.00661973,  0.00560859,  0.04251071, -0.04281629,\n",
    "        0.01145815, -0.05064738,  0.00139589,  0.05331724, -0.02797243,\n",
    "        0.02486119,  0.02209775, -0.03025766, -0.00026582, -0.03604446,\n",
    "        0.02757393,  0.02301833, -0.04737772,  0.0201114 ,  0.01530982,\n",
    "        0.00608452, -0.01197116, -0.03678663, -0.01909976,  0.0423104 ,\n",
    "       -0.02680252, -0.03289991,  0.01834219,  0.0382498 ,  0.02385026,\n",
    "       -0.01642191, -0.04346557, -0.0108797 ,  0.03891541,  0.04712358,\n",
    "        0.0410074 ,  0.00040526,  0.02942183, -0.00940155, -0.00153237,\n",
    "        0.02989153,  0.02962205,  0.02273981, -0.0162429 ,  0.02201794,\n",
    "        0.03000192,  0.04266142, -0.00949388, -0.04484278,  0.02571906,\n",
    "        0.0218984 ,  0.01593958,  0.01272848, -0.02295739,  0.04280536,\n",
    "       -0.03491832,  0.02681638,  0.03173434, -0.01009359, -0.00688876,\n",
    "       -0.02003995, -0.00811556, -0.01287408,  0.05238643,  0.04604201,\n",
    "       -0.04347397,  0.03965538,  0.02253289,  0.01984048, -0.0205805 ,\n",
    "        0.00640237, -0.0429517 ,  0.03502227,  0.06809666,  0.03793192,\n",
    "       -0.00830603, -0.01352212, -0.01284849,  0.03886525, -0.00808647,\n",
    "        0.02169906, -0.05135223,  0.02153879,  0.04477947, -0.01262479,\n",
    "        0.02703087, -0.00792164,  0.01562873,  0.03621903,  0.03398522,\n",
    "        0.02585399,  0.01781658,  0.03389072,  0.00861342, -0.03684771,\n",
    "        0.00730945, -0.03022587, -0.03341067,  0.03369855, -0.04912398,\n",
    "       -0.00246177, -0.0380845 ,  0.01469052, -0.02759748, -0.00651758,\n",
    "       -0.01683969,  0.01835858, -0.02287677, -0.03060804,  0.02692578,\n",
    "       -0.02201341,  0.0238675 ,  0.01388952, -0.00087985,  0.00352191,\n",
    "        0.03753009,  0.0140796 , -0.05697744,  0.03222467, -0.01489938,\n",
    "       -0.00938047, -0.02485165,  0.00255493, -0.00283778,  0.00735216,\n",
    "       -0.03188383,  0.03208707, -0.0167408 ,  0.0514897 ,  0.0347746 ,\n",
    "       -0.02186541,  0.04328226, -0.03487433, -0.04055232, -0.01030917,\n",
    "       -0.02390063,  0.0023312 ,  0.03728151, -0.02017578,  0.00567572,\n",
    "       -0.02597617, -0.01596487, -0.02475472, -0.02315537,  0.04673374,\n",
    "        0.00915402,  0.01651125, -0.04252662, -0.02164506, -0.00505483,\n",
    "       -0.00710286,  0.00695895, -0.02991918,  0.02587391,  0.01303281,\n",
    "       -0.02050617,  0.01827794,  0.02023526, -0.03114752,  0.01176467,\n",
    "       -0.01247253, -0.03442072, -0.01258485,  0.00099135, -0.00135849,\n",
    "        0.04159931,  0.00619901, -0.01226716, -0.03271322, -0.03454313,\n",
    "        0.04441951,  0.00696349,  0.04325579, -0.00942197,  0.02984488,\n",
    "       -0.00762856, -0.02108838,  0.00726006,  0.01496864, -0.0302466 ,\n",
    "       -0.05398728,  0.03513628, -0.01681334, -0.03164513, -0.03946717])\n",
    "word_the = arr.array('d',[-0.02983032, -0.04533919, -0.0197579 ,  0.0284172 ,  0.00660462,\n",
    "       -0.01772908,  0.01712269, -0.00294532, -0.0404641 , -0.04413018,\n",
    "       -0.05192615, -0.02277501,  0.01806395, -0.01886118, -0.01209276,\n",
    "       -0.02241352,  0.00353096,  0.01756724,  0.01844091,  0.0102452 ,\n",
    "       -0.02706367, -0.03547043, -0.02777825,  0.02946515,  0.04409275,\n",
    "        0.02920167, -0.01928076, -0.01832263, -0.00585843, -0.04934876,\n",
    "       -0.03652807, -0.03203474, -0.00132304, -0.02696478,  0.02084121,\n",
    "        0.01923022, -0.05294108, -0.0343679 ,  0.0477923 , -0.05505269,\n",
    "       -0.0052019 , -0.03707141, -0.06029903,  0.00479695,  0.02108435,\n",
    "       -0.02427556, -0.04297535, -0.03756105, -0.01635868,  0.03147725,\n",
    "        0.03221193,  0.03430243, -0.00102801, -0.00494555,  0.02610764,\n",
    "        0.01031155,  0.03124322, -0.03028773, -0.00529284, -0.00131028,\n",
    "       -0.02475672,  0.03847493, -0.04325184, -0.03875807, -0.02144311,\n",
    "        0.01348094, -0.01514711,  0.04109273,  0.02944352,  0.06513985,\n",
    "        0.02868462, -0.01440533,  0.03227499,  0.0041676 ,  0.02640607,\n",
    "        0.02285901, -0.03837968, -0.02678224,  0.01864165,  0.00207287,\n",
    "       -0.00691785, -0.03919192, -0.0155603 ,  0.01243362,  0.0033273 ,\n",
    "        0.00687121,  0.01161032, -0.04383144, -0.0346043 , -0.01425298,\n",
    "        0.03212499,  0.00851404,  0.01229236, -0.01558137,  0.03659459,\n",
    "        0.04916411, -0.05115015, -0.02428152, -0.01176582,  0.02537705,\n",
    "       -0.03457726,  0.02233516, -0.0269671 ,  0.03480559, -0.03248261,\n",
    "       -0.01491454,  0.04352413,  0.02438227, -0.01612707, -0.00390177,\n",
    "        0.00579389, -0.02227513, -0.00660182,  0.02055692,  0.00632225,\n",
    "       -0.00451814,  0.04704572,  0.03699438,  0.05622265, -0.01665076,\n",
    "       -0.04423269,  0.00758435,  0.0479059 , -0.01403566, -0.02965715,\n",
    "        0.00531504,  0.03431141, -0.01518088, -0.00419656,  0.01244925,\n",
    "       -0.00995597,  0.00849868,  0.04683992,  0.02556286,  0.00013612,\n",
    "       -0.02352897, -0.02661536, -0.01699172, -0.04125607,  0.01435482,\n",
    "       -0.00222023,  0.0175964 ,  0.04249744, -0.01438119,  0.02874151,\n",
    "        0.03257067, -0.03199618,  0.0323783 , -0.02196702, -0.04260158,\n",
    "        0.00398602, -0.02380402, -0.03820889, -0.01937259,  0.05602087,\n",
    "       -0.0045122 , -0.01061228, -0.01524584,  0.01020014,  0.00610412,\n",
    "       -0.00374072,  0.03984864,  0.03691793,  0.04756089, -0.02657358,\n",
    "       -0.01022065,  0.04071572, -0.01874368, -0.02088008,  0.03626005,\n",
    "       -0.00490698, -0.02733963, -0.01072815,  0.02917918,  0.00366829,\n",
    "        0.01325985, -0.03543815, -0.04680802, -0.01118232,  0.05573998,\n",
    "        0.03986938,  0.01823785,  0.01723184, -0.00552597, -0.01760382,\n",
    "        0.05291506,  0.02604121,  0.04018201, -0.05885718, -0.00842807,\n",
    "       -0.01448178, -0.01894765,  0.03602339, -0.03924839,  0.03751992,\n",
    "       -0.02015057,  0.04722977,  0.03981564, -0.02773551,  0.00742405,\n",
    "        0.02579902,  0.01088465,  0.0166193 ,  0.00546306, -0.0329108 ,\n",
    "       -0.04274555, -0.0275025 ,  0.01503954, -0.00194045,  0.01837035,\n",
    "       -0.02274463, -0.03432915,  0.01589972, -0.06030909,  0.04240766,\n",
    "       -0.03277044,  0.0010142 , -0.00506815,  0.03258203,  0.00347528,\n",
    "       -0.00455403, -0.01575019, -0.00275897,  0.03911613,  0.03860985,\n",
    "       -0.01679888, -0.04514754, -0.02671211, -0.00892835, -0.00119118,\n",
    "        0.01614767, -0.03205318,  0.01309305,  0.02774143,  0.0225335 ,\n",
    "        0.03046271,  0.03966475, -0.05445429,  0.01701812,  0.0380871 ,\n",
    "        0.02226287, -0.01088128, -0.04602855, -0.00862105, -0.03254621,\n",
    "       -0.03988015, -0.02130634, -0.0326984 ,  0.03893079, -0.0132036 ,\n",
    "        0.01987365, -0.02804147, -0.01912032,  0.02513238,  0.02392246,\n",
    "       -0.01687567,  0.02720491, -0.03257908,  0.00296368, -0.00941416,\n",
    "        0.04047926,  0.00424705,  0.02344661, -0.01364903,  0.00436392,\n",
    "       -0.01999111,  0.04596658,  0.03938953,  0.0414068 ,  0.04518869,\n",
    "       -0.02510222,  0.0446376 ,  0.04739913, -0.01036836, -0.03968194,\n",
    "        0.01638183, -0.01845044,  0.00904129,  0.00535747, -0.00170258,\n",
    "        0.00393148,  0.02764166, -0.0162097 , -0.0343248 , -0.03038679,\n",
    "       -0.02427855,  0.03259803,  0.02598446, -0.01429832, -0.01912821,\n",
    "        0.0052939 , -0.03512374,  0.04371049, -0.02779436, -0.00411339,\n",
    "        0.0014952 , -0.02839973,  0.03335655, -0.00934433,  0.03569385])\n",
    "word_it = arr.array('d',[-5.21614924e-02,  2.52207089e-02, -1.25548253e-02, -6.97351024e-02,\n",
    "       -6.88504800e-03,  9.82041005e-03, -1.29705071e-02,  9.05668270e-03,\n",
    "       -3.77538875e-02,  1.83945056e-02, -1.88099630e-02,  3.45310420e-02,\n",
    "        1.76505446e-02, -1.85199808e-02, -1.30351288e-02,  2.06059515e-02,\n",
    "        5.29362820e-02,  5.09631336e-02, -2.27090786e-03,  3.60469036e-02,\n",
    "        1.76569093e-02,  3.08813825e-02,  1.05380304e-02,  2.16451492e-02,\n",
    "       -2.91673802e-02,  1.10926041e-02, -3.62216569e-02,  3.58288474e-02,\n",
    "        2.49058381e-02, -3.31650898e-02, -2.39882395e-02,  2.65602861e-02,\n",
    "       -1.00672925e-02, -3.85704376e-02, -1.63553208e-02,  2.88655609e-02,\n",
    "       -1.05548427e-02, -1.74680036e-02,  9.20338742e-03,  3.77039686e-02,\n",
    "        8.03534221e-03, -5.53911068e-02, -7.10847182e-03, -2.37645279e-03,\n",
    "        6.32595271e-03, -7.36655248e-03,  3.50930691e-02, -1.38366483e-02,\n",
    "       -3.99568230e-02,  3.15347649e-02, -1.67977158e-02,  1.55186355e-02,\n",
    "       -3.11748683e-02,  1.08204753e-04, -4.02317606e-02,  2.14111693e-02,\n",
    "        1.25403265e-02, -1.75390462e-03,  4.38925028e-02, -4.81644906e-02,\n",
    "       -3.52256894e-02,  2.67066173e-02, -6.35063602e-03, -1.72008090e-02,\n",
    "       -2.90452689e-03, -3.89530323e-02, -2.67990003e-03,  3.97787616e-03,\n",
    "        1.47646470e-02,  8.02978873e-03,  1.50445262e-02, -1.23318713e-02,\n",
    "       -2.30477396e-02, -1.45687470e-02,  1.80546511e-02, -8.40934925e-04,\n",
    "        2.35015023e-02, -2.63015125e-02,  1.99399274e-02, -5.04489467e-02,\n",
    "       -6.36580288e-02, -2.31420659e-02, -1.40284020e-02,  1.17237307e-03,\n",
    "        2.26094890e-02, -3.53396684e-02, -4.05819416e-02, -5.32908961e-02,\n",
    "       -7.60379387e-03, -5.08858189e-02,  3.76513004e-02,  4.77471128e-02,\n",
    "       -2.88814469e-03,  2.97126155e-02, -2.59581003e-02, -3.14007071e-03,\n",
    "        2.74349079e-02, -2.81186607e-02,  3.79351452e-02, -3.55061255e-02,\n",
    "        3.85070667e-02, -2.34492663e-02,  6.25153724e-03, -5.83134070e-02,\n",
    "        4.54012677e-02,  3.86084542e-02, -4.64518974e-03, -2.55098455e-02,\n",
    "        3.23897451e-02,  1.64492112e-02, -2.78292950e-02, -2.63965167e-02,\n",
    "       -5.92075707e-03, -2.76183169e-02,  1.59956124e-02, -1.46066183e-02,\n",
    "       -4.56044031e-03, -3.15058455e-02, -6.46747183e-04, -1.58422589e-02,\n",
    "       -3.13542783e-02, -8.44268594e-03, -4.71919738e-02, -4.57433872e-02,\n",
    "        1.20765269e-02, -4.11970802e-02,  1.65520888e-02,  2.31601093e-02,\n",
    "        1.90494806e-02, -1.67650338e-02, -2.76229288e-02, -3.85765433e-02,\n",
    "        2.26169769e-02, -1.41545301e-02, -8.04951042e-02,  4.38135490e-02,\n",
    "        5.63093647e-03, -1.01030637e-02,  1.69272535e-02,  4.95998980e-03,\n",
    "       -1.25110550e-02,  1.11318128e-02,  1.96244419e-02, -4.77956980e-02,\n",
    "       -3.64805050e-02, -3.75681743e-02, -4.09272872e-02, -4.90357988e-02,\n",
    "        6.04375787e-02, -4.11340520e-02, -1.92428418e-02,  9.68535617e-03,\n",
    "       -5.06385565e-02, -4.06285003e-02, -2.14348566e-02,  2.77258772e-02,\n",
    "        4.44697775e-02, -1.99566390e-02, -2.02149283e-02,  2.67957076e-02,\n",
    "        8.23310670e-03,  4.55452129e-02, -1.81369819e-02,  1.21186264e-02,\n",
    "       -1.07851056e-02,  2.99962591e-02,  2.63114665e-02, -3.52904163e-02,\n",
    "       -2.94986609e-02, -3.11363004e-02,  4.72948654e-03,  7.02889403e-03,\n",
    "        1.95431113e-02, -2.19931137e-02,  2.48892456e-02,  2.84353290e-02,\n",
    "        3.21711265e-02, -8.16777162e-03,  2.31623221e-02, -8.72579589e-03,\n",
    "        1.53536275e-02, -2.50350609e-02,  1.07848719e-02,  1.18709290e-02,\n",
    "        7.23649142e-03, -1.02878753e-02,  2.13819481e-02,  5.29926037e-03,\n",
    "       -1.30499818e-03,  2.00576335e-02, -5.08018956e-03,  2.41986830e-02,\n",
    "        2.41850000e-02,  3.41465995e-02, -3.43694836e-02,  4.93447948e-03,\n",
    "        2.34735981e-02, -4.05759662e-02, -3.53080593e-02, -8.00038967e-03,\n",
    "        3.32995430e-02, -3.61169246e-03, -2.14590169e-02, -2.46831086e-02,\n",
    "       -9.14830528e-03, -3.01817264e-02, -4.26638462e-02,  3.05751748e-02,\n",
    "       -1.28895594e-02,  1.84880123e-02,  1.74445715e-02,  1.61280334e-02,\n",
    "        3.20543312e-02, -4.07144241e-02,  1.38587290e-02,  3.57062072e-02,\n",
    "        4.79338355e-02, -5.02484106e-02,  1.23630948e-02,  2.15446547e-04,\n",
    "        6.12974545e-05, -1.01907067e-02, -3.35766003e-02,  2.65395194e-02,\n",
    "       -8.68044794e-03, -2.13277619e-03, -1.85708031e-02, -1.38975884e-05,\n",
    "       -3.03259827e-02, -7.49635603e-03,  3.20695899e-02,  2.75701401e-04,\n",
    "        2.49495897e-02,  2.83157192e-02,  2.86749378e-02, -1.92750376e-02,\n",
    "        1.59986503e-02, -2.93927565e-02,  5.26309479e-03,  9.28169210e-03,\n",
    "        9.77538992e-03, -5.91024533e-02, -5.15819043e-02,  2.03112569e-02,\n",
    "       -2.85745300e-02,  6.51611611e-02, -6.39321953e-02,  3.00267637e-02,\n",
    "       -2.64692499e-04,  2.79532690e-02,  2.92824656e-02,  2.82213949e-02,\n",
    "       -1.54992798e-02, -4.34493721e-02,  2.24578921e-02,  1.62808150e-02,\n",
    "        1.10036004e-02, -4.28378433e-02, -2.61649266e-02, -2.99163722e-02,\n",
    "        5.07385209e-02,  3.41917872e-02, -2.17576213e-02, -3.88374664e-02,\n",
    "       -2.40505338e-02,  2.33147498e-02, -1.22706080e-02, -2.15575956e-02,\n",
    "        5.93029223e-02, -3.92012000e-02, -2.51956340e-02, -2.89905109e-02,\n",
    "        1.14739547e-02,  8.41342099e-03, -8.91438033e-03, -3.15198302e-02,\n",
    "       -1.55043844e-02, -5.43069169e-02, -5.58688343e-02,  3.33621837e-02,\n",
    "       -3.36942598e-02,  4.65806387e-03, -5.05664796e-02,  3.89702469e-02,\n",
    "       -3.54117267e-02, -2.57280581e-02, -5.81413917e-02, -4.70144637e-02,\n",
    "       -1.67162940e-02, -5.20429341e-03, -4.89178710e-02, -1.65184010e-02,\n",
    "       -2.79748924e-02, -6.28608614e-02,  2.10916594e-04, -8.91054515e-03,\n",
    "        5.74198086e-04,  3.74160782e-02,  5.97363003e-02, -1.31481932e-02])\n",
    "word_and = arr.array('d',[0.01130067, -0.01216024,  0.0032936 ,  0.02511659,  0.05970659,\n",
    "       -0.00776468, -0.0112484 ,  0.0263905 , -0.05110216,  0.04014755,\n",
    "       -0.01609012,  0.01020583, -0.0004482 ,  0.00258431, -0.04647898,\n",
    "        0.01765575,  0.04355006,  0.01618993, -0.0264109 , -0.03908516,\n",
    "        0.0034808 ,  0.01344811,  0.03157296, -0.02402169, -0.03134595,\n",
    "        0.04793815,  0.03291682,  0.01834505,  0.03611966, -0.02895417,\n",
    "       -0.03194517, -0.02040015,  0.01107294, -0.02674015,  0.01980691,\n",
    "       -0.03619123,  0.04806213, -0.01248182, -0.02488432,  0.0110502 ,\n",
    "       -0.05869373,  0.04701669,  0.00673652, -0.04423474,  0.03618949,\n",
    "       -0.0136754 , -0.05642394, -0.02551173, -0.02249943,  0.04250152,\n",
    "       -0.05264544, -0.00884732,  0.03569913,  0.01129829,  0.02631523,\n",
    "        0.02331482,  0.00214302, -0.02908745, -0.01629264, -0.00835798,\n",
    "       -0.04539748, -0.01889203,  0.01734996, -0.03115537,  0.00551706,\n",
    "       -0.04804719, -0.01473033,  0.00154226, -0.05156682, -0.0050741 ,\n",
    "       -0.03411542,  0.01040919, -0.01055083,  0.00191805,  0.03865951,\n",
    "       -0.02535439,  0.02678484, -0.04984484,  0.0292943 , -0.04744694,\n",
    "        0.00257767,  0.0027233 , -0.04225739, -0.01977237, -0.02475686,\n",
    "       -0.03375817,  0.01521302,  0.00742283,  0.04323031, -0.05885728,\n",
    "       -0.0026552 ,  0.00482718,  0.03166435,  0.01226158, -0.01417833,\n",
    "        0.04323661,  0.00782818, -0.02282625,  0.01971616, -0.030147  ,\n",
    "        0.02180445, -0.02823042, -0.02684009, -0.0069622 ,  0.01250774,\n",
    "       -0.03622854,  0.00956355, -0.04080178, -0.01856688, -0.01659757,\n",
    "       -0.01042475, -0.03306528, -0.01038475, -0.03992793,  0.04086472,\n",
    "       -0.01475596, -0.01276506, -0.04334201, -0.03797388, -0.03240015,\n",
    "        0.03440683, -0.01479502,  0.00484345, -0.01820037,  0.03575294,\n",
    "        0.03374377,  0.02880891, -0.03153864,  0.04673626,  0.03891061,\n",
    "       -0.02899954, -0.03800092, -0.04112511,  0.01919569,  0.05079455,\n",
    "       -0.00163431, -0.00254774, -0.00625324, -0.0146463 , -0.00387749,\n",
    "       -0.02521801,  0.01524217, -0.02435558, -0.04379547, -0.02165629,\n",
    "       -0.01438994, -0.02943232, -0.04208042,  0.02996175,  0.02881382,\n",
    "        0.03062975,  0.03244328, -0.03619412, -0.0169613 , -0.0166043 ,\n",
    "        0.02804005,  0.01128396, -0.0231294 , -0.00369046,  0.00275732,\n",
    "        0.02464104,  0.02324809, -0.0131149 ,  0.02995769,  0.02819656,\n",
    "       -0.04129524,  0.00708682,  0.02100139, -0.00130528, -0.01797806,\n",
    "       -0.00019088,  0.0306243 ,  0.05041493,  0.05299588,  0.03790429,\n",
    "       -0.01229682,  0.0158968 , -0.03411571, -0.00592184, -0.0003775 ,\n",
    "        0.02367371,  0.03950758,  0.04725241,  0.01057768, -0.00762596,\n",
    "        0.03246808, -0.002269  ,  0.02088339, -0.00844365,  0.00467926,\n",
    "        0.01513722,  0.04895927, -0.04476797, -0.00416399,  0.02824474,\n",
    "        0.01824275,  0.04832757,  0.00067076,  0.0281452 , -0.01398866,\n",
    "        0.022412  , -0.02054799, -0.01828665,  0.01741205,  0.01372001,\n",
    "        0.05020881, -0.02473237,  0.02881992, -0.01082171,  0.02994462,\n",
    "       -0.03305337, -0.03893099, -0.03401655,  0.03702218, -0.00631469,\n",
    "        0.03191158, -0.04143367,  0.01672282,  0.01871717, -0.01375591,\n",
    "        0.00696044, -0.0572601 , -0.01768737, -0.00047465, -0.00192745,\n",
    "       -0.03721708,  0.03006612, -0.03478737, -0.02924159,  0.00158388,\n",
    "       -0.02104951,  0.04533907,  0.03628725,  0.0082862 ,  0.05824034,\n",
    "       -0.03391574, -0.00687518, -0.05761781,  0.02762167, -0.02278121,\n",
    "       -0.00730624,  0.03282545, -0.04533227,  0.0248219 , -0.02561372,\n",
    "        0.02797456,  0.02442691,  0.0048303 ,  0.01753936,  0.01882085,\n",
    "        0.05642504,  0.04741438, -0.02457532, -0.03930162, -0.02127483,\n",
    "       -0.03432226,  0.00860566, -0.03611445,  0.00281112, -0.01910651,\n",
    "       -0.03141598,  0.01821566, -0.00731016,  0.03048847,  0.00710847,\n",
    "       -0.03461798, -0.04527196, -0.00842559,  0.01883131, -0.04258772,\n",
    "       -0.03638252,  0.03215094, -0.00557384,  0.01531914,  0.02274107,\n",
    "       -0.0379048 ,  0.05096637, -0.00089555, -0.04838059,  0.04449515,\n",
    "        0.01778718,  0.00704991, -0.04933838,  0.01897551, -0.02827287,\n",
    "       -0.05732358,  0.03517975, -0.03486909, -0.00581862,  0.03433728,\n",
    "        0.04983883,  0.05482841, -0.04931231, -0.03311947,  0.02493318,\n",
    "        0.01677977, -0.04124035, -0.03480733, -0.01447859,  0.01489567])\n",
    "word_a = arr.array('d',[4.99135628e-02, -3.75467986e-02, -2.84689628e-02,  4.79186103e-02,\n",
    "       -1.76929869e-02, -4.02424447e-02,  5.09095043e-02, -1.62939969e-02,\n",
    "        2.56188493e-02,  4.72621247e-02,  3.69433388e-02,  9.18808207e-03,\n",
    "       -2.96542495e-02, -2.54431460e-02, -1.94442440e-02, -6.33732043e-03,\n",
    "        4.14801277e-02,  1.51436627e-02,  1.85056850e-02, -2.46853195e-02,\n",
    "        3.82610932e-02, -1.67175755e-02, -2.65304334e-02,  2.02968009e-02,\n",
    "       -1.41722141e-02, -4.07597469e-03,  4.73833364e-03, -4.71340939e-02,\n",
    "        2.59168856e-02, -2.76397690e-02,  2.19209609e-03, -2.45007370e-02,\n",
    "        8.62324960e-04,  1.75765119e-02, -5.12848720e-02, -2.53402796e-02,\n",
    "       -4.85545658e-02, -2.20642108e-02,  5.08537479e-02,  1.45819513e-02,\n",
    "       -3.78575325e-02, -2.33014282e-02, -3.57412361e-02,  1.39483577e-02,\n",
    "       -3.67576703e-02,  1.10651311e-02, -2.51993518e-02,  1.90040621e-03,\n",
    "       -3.36701497e-02,  1.69166401e-02, -4.40500230e-02, -4.81857657e-02,\n",
    "       -1.75952027e-03, -1.73647199e-02, -4.27856892e-02,  1.59198195e-02,\n",
    "        9.22612846e-03,  2.30542775e-02,  4.12281603e-02,  5.62638342e-02,\n",
    "        1.43633913e-02, -8.12858343e-03, -2.25720555e-02,  2.78893132e-02,\n",
    "       -3.92199121e-02,  6.36871019e-03,  7.98334740e-03, -4.49290266e-03,\n",
    "       -1.43412137e-02,  2.70596221e-02,  1.65276136e-02,  7.13401567e-03,\n",
    "       -2.37830635e-02, -8.74201208e-03, -1.34803466e-02,  4.14497666e-02,\n",
    "       -5.09683974e-02, -1.19339796e-02,  2.45606638e-02, -4.16889861e-02,\n",
    "        2.67201439e-02,  4.07167822e-02,  5.53046586e-03,  2.85663605e-02,\n",
    "       -3.24114226e-02,  9.07490496e-03, -2.66235881e-02,  4.82575446e-02,\n",
    "        3.78124677e-02, -1.47673991e-02, -3.80644319e-03,  4.98544937e-03,\n",
    "       -8.05279147e-03, -1.60828214e-02,  3.20483781e-02, -3.01933009e-03,\n",
    "       -2.01830431e-03,  2.19698064e-02,  2.17048451e-03,  4.85467836e-02,\n",
    "       -3.40767927e-03, -2.89369375e-02,  2.24578790e-02,  3.50111835e-02,\n",
    "        2.29980350e-02, -2.64632683e-02,  6.26077130e-03, -3.43949161e-02,\n",
    "        6.96810486e-04, -1.08969351e-03,  1.56389826e-04, -2.12939661e-02,\n",
    "        1.86216682e-02,  8.08697834e-04, -3.97162326e-03,  6.57727569e-03,\n",
    "        5.44713438e-02,  1.38617940e-02,  7.85103720e-03, -1.68714803e-02,\n",
    "       -2.16246536e-03, -9.45230387e-03, -1.95083134e-02, -2.19192589e-03,\n",
    "        3.00621185e-02, -2.02619135e-02, -2.94105876e-02,  3.17702740e-02,\n",
    "       -3.53813469e-02, -5.12704737e-02,  2.18445864e-02, -2.33099377e-03,\n",
    "        3.23273800e-02,  3.85316052e-02,  3.80314683e-04, -1.78298913e-02,\n",
    "       -4.02825512e-02, -3.17990221e-02,  5.27253235e-03, -1.02096479e-02,\n",
    "        9.18766763e-03,  3.77851948e-02,  1.04507094e-03,  2.37236731e-02,\n",
    "        9.41952504e-03, -1.99140348e-02,  3.60086672e-02, -1.00052264e-02,\n",
    "       -2.43160725e-02,  5.47440983e-02, -2.51625478e-02,  4.32882681e-02,\n",
    "       -2.21991427e-02, -4.34390157e-02, -3.60265560e-03, -4.21706960e-02,\n",
    "       -1.45880403e-02, -3.42469327e-02, -3.16020511e-02, -3.45903523e-02,\n",
    "       -1.72983750e-03, -3.32703777e-02, -4.75738477e-03,  8.71781074e-03,\n",
    "       -4.29839641e-02,  1.27081014e-02,  5.22427028e-03,  4.36430834e-02,\n",
    "        6.13561040e-03, -3.80234420e-02,  2.49719098e-02, -4.93218750e-03,\n",
    "        4.27629873e-02, -8.06382205e-03,  6.64742244e-03,  1.77476462e-02,\n",
    "       -3.31153572e-02,  4.77274368e-03, -1.90022942e-02, -1.86300855e-02,\n",
    "       -3.70650589e-02, -1.09102633e-02, -3.49225327e-02, -5.41827269e-02,\n",
    "       -1.04789976e-02,  1.58249456e-02,  3.70033011e-02, -5.05534075e-02,\n",
    "       -2.22381596e-02, -4.64219078e-02, -1.96367260e-02, -2.64670490e-03,\n",
    "       -4.15537469e-02,  2.10053902e-02,  2.90900506e-02,  2.75791194e-02,\n",
    "        3.18809971e-02,  7.71571510e-03,  3.03234812e-03,  3.19966078e-02,\n",
    "       -2.38794442e-02,  1.56203890e-02, -2.53867656e-02, -2.38168892e-02,\n",
    "        3.82863395e-02, -9.73951630e-03, -3.52832936e-02, -4.74335440e-02,\n",
    "        4.02956689e-03, -1.03997253e-02, -3.82603444e-02,  2.96168085e-02,\n",
    "       -2.91503873e-03, -4.79042567e-02, -8.19758233e-03,  6.00745250e-03,\n",
    "        3.11807264e-02,  4.93026758e-03, -1.63506214e-02, -1.04140555e-02,\n",
    "        4.88544218e-02, -4.90510315e-02, -2.84360982e-02, -3.91154513e-02,\n",
    "       -5.03828041e-02,  3.98835726e-02, -1.38953021e-02,  5.23181446e-02,\n",
    "       -1.99385025e-02, -9.57318395e-03,  1.90140605e-02,  4.49930765e-02,\n",
    "       -1.90978032e-02,  1.54786268e-02,  2.42668018e-02,  5.95754571e-03,\n",
    "        2.21226853e-03, -1.20299053e-03, -4.24188524e-02, -2.23490130e-02,\n",
    "        1.68932732e-02, -2.02625562e-02,  1.12438956e-02,  1.66708920e-02,\n",
    "        1.99644007e-02,  6.33887807e-03,  3.81916501e-02, -2.90807448e-02,\n",
    "       -3.48134935e-02, -2.76895287e-03,  2.71112230e-02,  1.17793735e-02,\n",
    "       -2.73987371e-02, -1.55549347e-02, -1.98661480e-02,  3.06597799e-02,\n",
    "        1.60014385e-03, -1.78846382e-02, -8.24577734e-03, -4.08183075e-02,\n",
    "        2.34258976e-02, -4.15331908e-02,  1.55678205e-02,  1.41882701e-02,\n",
    "       -5.31035475e-02, -4.16682893e-03,  3.21970903e-03, -3.23324129e-02,\n",
    "       -3.44821624e-02,  2.84887943e-02, -9.86160617e-03, -3.28046978e-02,\n",
    "        3.85214314e-02,  7.84074509e-05,  3.17544304e-03, -5.83528839e-02,\n",
    "       -2.52648350e-02, -3.52523364e-02,  3.51031274e-02,  1.46875512e-02,\n",
    "       -4.59928289e-02,  1.95256597e-03,  1.75542217e-02, -1.03303101e-02,\n",
    "       -1.18525159e-02, -2.06741728e-02,  4.47134785e-02, -3.74277234e-02,\n",
    "        1.77948538e-03, -1.88500341e-02,  2.06731632e-02,  1.72779001e-02,\n",
    "        1.67705752e-02, -1.83008239e-02, -4.37702239e-02, -1.98745565e-03,\n",
    "        6.51031174e-03,  1.07418001e-02, -2.75821071e-02, -5.79554029e-02])\n",
    "word_br = arr.array('d',[-0.01282858,  0.01811282, -0.02601121, -0.02340363, -0.01462238,\n",
    "        0.01921485, -0.00577773,  0.0162767 ,  0.03121201,  0.0147985 ,\n",
    "       -0.00069976, -0.03174794, -0.0313213 , -0.00078884,  0.03026155,\n",
    "       -0.01515221, -0.0176953 , -0.02212848, -0.03334891,  0.0538682 ,\n",
    "       -0.02148338,  0.03706999, -0.00178725,  0.0291617 , -0.03633095,\n",
    "       -0.00902049, -0.06636976, -0.04198245, -0.02583947, -0.02278275,\n",
    "        0.04327091,  0.04598122, -0.0436622 ,  0.05584673,  0.04386068,\n",
    "        0.03003026,  0.02483893,  0.04599442,  0.02583476, -0.07661097,\n",
    "       -0.04608823,  0.03063746,  0.03841044, -0.02718256, -0.01169242,\n",
    "        0.03522644, -0.02567123,  0.04203146,  0.00308669,  0.06442099,\n",
    "       -0.02138793,  0.04013812, -0.01366058, -0.06069504, -0.09292428,\n",
    "       -0.0096764 ,  0.01600091,  0.0515903 ,  0.03912997,  0.054827  ,\n",
    "        0.00780242, -0.01826851, -0.01968493,  0.01908002,  0.02318253,\n",
    "        0.03579472,  0.04190442,  0.02942834, -0.00220226,  0.01130921,\n",
    "        0.02708309,  0.06506225,  0.03001483,  0.03869695, -0.0215086 ,\n",
    "        0.02530092,  0.01854722, -0.03336823, -0.03380055,  0.03673083,\n",
    "       -0.05274246,  0.00891706, -0.02770316,  0.01546644, -0.00975011,\n",
    "        0.01288268,  0.0505332 , -0.00036163, -0.02468782,  0.0175098 ,\n",
    "        0.0277359 , -0.04937376, -0.04199291,  0.04728227, -0.02935065,\n",
    "       -0.01271936,  0.03153466,  0.00088428, -0.01741942,  0.04620946,\n",
    "        0.00774637, -0.0255194 ,  0.04015049,  0.04499978, -0.02895331,\n",
    "        0.04520055, -0.04030467,  0.04716175, -0.01525111, -0.03309844,\n",
    "        0.01378504,  0.02625039, -0.00383346,  0.01495702, -0.06099145,\n",
    "       -0.03595002,  0.00528511, -0.02998654, -0.02543449, -0.01087404,\n",
    "        0.03361281, -0.05822062,  0.02737121, -0.05641317, -0.04221916,\n",
    "        0.02923034, -0.02138922,  0.01241646, -0.01406535,  0.03357789,\n",
    "       -0.00037139,  0.03225968, -0.02093863,  0.0172812 , -0.01020902,\n",
    "       -0.00365013, -0.02070563, -0.02950157,  0.01403507, -0.0295888 ,\n",
    "       -0.00084579, -0.01814734,  0.00883959,  0.04064377, -0.00630669,\n",
    "       -0.03896509, -0.04679515, -0.01965349, -0.02045535, -0.00612639,\n",
    "       -0.03498972, -0.02087072, -0.01039907, -0.01946652, -0.02379274,\n",
    "        0.00754227, -0.0124432 , -0.01937838, -0.00347768, -0.02370414,\n",
    "        0.00640725,  0.00548838,  0.01912643, -0.01473215, -0.01451756,\n",
    "       -0.03948396,  0.00915345, -0.03832524, -0.05879961, -0.03167824,\n",
    "        0.05381384, -0.03241415, -0.00748649, -0.01366581, -0.02848111,\n",
    "       -0.04825214,  0.01029851, -0.01511555,  0.01797384,  0.0105873 ,\n",
    "       -0.02194553,  0.00238106, -0.02893258, -0.03372369,  0.0620974 ,\n",
    "       -0.02118934, -0.01264193, -0.0290966 , -0.02584141, -0.03018387,\n",
    "        0.019792  , -0.02607367, -0.03982385, -0.00724478, -0.02422214,\n",
    "       -0.0427213 ,  0.03784969,  0.01376974,  0.06441379,  0.00241595,\n",
    "        0.03397741, -0.02436603,  0.02594244, -0.00246111, -0.0317841 ,\n",
    "       -0.04211286,  0.04933392,  0.01574389,  0.03280808,  0.03331324,\n",
    "       -0.02835908, -0.01836437, -0.05004498,  0.01904169,  0.04172446,\n",
    "        0.00763865, -0.00903161,  0.00343634,  0.0045831 ,  0.03666638,\n",
    "        0.00480418, -0.02913181, -0.00180279, -0.0009851 ,  0.04031967,\n",
    "       -0.03296302,  0.03269411,  0.01238669, -0.01270548, -0.00804384,\n",
    "        0.02879466,  0.03810953,  0.00596039, -0.04164944, -0.0451762 ,\n",
    "       -0.02919273,  0.0487525 ,  0.03681683, -0.00103108,  0.03106946,\n",
    "        0.01714161,  0.0269374 ,  0.03221507, -0.05295181,  0.02916308,\n",
    "        0.0497826 , -0.04882024, -0.03027225, -0.01404365, -0.02726093,\n",
    "       -0.02860686, -0.04291375,  0.03325561, -0.02201323,  0.01464402,\n",
    "        0.04818252,  0.01149559,  0.05613283,  0.01903847, -0.02215021,\n",
    "        0.00157132, -0.01514275, -0.01197765, -0.02233781,  0.02928795,\n",
    "       -0.01351219,  0.01325518,  0.03506102, -0.04845585,  0.04060518,\n",
    "       -0.01259691, -0.0401165 , -0.00925445, -0.02889362,  0.0193041 ,\n",
    "       -0.05687864,  0.0425969 , -0.02842087,  0.00784345, -0.00846323,\n",
    "       -0.03765638, -0.02428794, -0.00012184, -0.02804397, -0.00297689,\n",
    "        0.03566463,  0.03381476,  0.00555922,  0.0327815 ,  0.040743  ,\n",
    "       -0.06683405,  0.00045027,  0.04176883, -0.0161292 , -0.01973668,\n",
    "       -0.04534883, -0.01481969,  0.02546411, -0.03330941, -0.00193703])\n",
    "word_in = arr.array('d',[0.04849576,  0.0334293 ,  0.02280295, -0.01723667, -0.03719267,\n",
    "        0.02526352, -0.07466682, -0.04533101, -0.03418713, -0.01657659,\n",
    "        0.01678106, -0.02472903,  0.03975367, -0.0241722 , -0.00457786,\n",
    "       -0.03597325,  0.00984666, -0.04179653,  0.04706082, -0.04317392,\n",
    "       -0.04115012, -0.02208961,  0.05961135,  0.00791802, -0.0026715 ,\n",
    "       -0.01357542,  0.06056737,  0.02208391,  0.04958863,  0.06258081,\n",
    "        0.04952155, -0.02158142, -0.02586867, -0.00634841,  0.02908202,\n",
    "        0.03606175, -0.02622091, -0.00022781, -0.03708313,  0.02145803,\n",
    "        0.05735363,  0.05300379,  0.05490512,  0.02713575,  0.00482274,\n",
    "       -0.0140566 , -0.04379177,  0.0406981 , -0.02657714, -0.00551644,\n",
    "        0.0237176 , -0.03841212, -0.01621226,  0.01108467,  0.05700392,\n",
    "       -0.02203803, -0.0418046 , -0.02875903, -0.0303097 ,  0.00773201,\n",
    "       -0.01250146, -0.01145123,  0.01068005, -0.01927161, -0.04199654,\n",
    "       -0.00905681, -0.03344546, -0.0453838 ,  0.0415656 , -0.03624735,\n",
    "        0.02529759, -0.05002803,  0.00420453,  0.0046027 ,  0.01870362,\n",
    "        0.020628  , -0.01395333, -0.04163798, -0.02931397, -0.05206579,\n",
    "       -0.03341991,  0.04131078,  0.03766779, -0.03484822,  0.00693834,\n",
    "       -0.04010081, -0.03256004, -0.01053404, -0.02445985, -0.00811805,\n",
    "       -0.03475257,  0.00334694,  0.01872934, -0.02103974,  0.03115927,\n",
    "       -0.04549884, -0.04266731, -0.03704038,  0.01060451,  0.00488973,\n",
    "       -0.02722814,  0.02834941,  0.02216838, -0.03446715, -0.0155227 ,\n",
    "        0.06057946,  0.02119128, -0.03923676,  0.00782122, -0.0165622 ,\n",
    "       -0.02734384, -0.019387  , -0.03015058,  0.0224477 , -0.01319819,\n",
    "       -0.02667149, -0.01359075, -0.05681759, -0.03295501,  0.04858136,\n",
    "        0.03575025, -0.01627965, -0.01008211,  0.03276571,  0.05327106,\n",
    "       -0.02476182, -0.03060592, -0.0109632 , -0.04651064, -0.05191528,\n",
    "        0.02141473, -0.01597111, -0.02386298, -0.05106155,  0.04386833,\n",
    "       -0.03155114, -0.02483018,  0.04542099, -0.01948025,  0.0153629 ,\n",
    "        0.03056004, -0.02201172,  0.01730559,  0.03307618, -0.04709461,\n",
    "        0.03768003,  0.013225  ,  0.05276773, -0.03593819,  0.03474727,\n",
    "        0.04259722,  0.03001185,  0.00995932, -0.01205214,  0.00662152,\n",
    "       -0.01607615, -0.05962801,  0.00508886, -0.03451254, -0.0353561 ,\n",
    "       -0.04697104, -0.01582822, -0.00289014, -0.02606325,  0.03286495,\n",
    "       -0.00587656, -0.03163753,  0.02575752, -0.05425852,  0.03295853,\n",
    "       -0.01167462,  0.02700344,  0.02680947,  0.00067153,  0.04296213,\n",
    "       -0.04558165, -0.03847335, -0.02258915,  0.00102296,  0.02732789,\n",
    "       -0.03138473,  0.0002226 ,  0.01509198,  0.00480884,  0.02269576,\n",
    "       -0.05087617,  0.02598938,  0.0124438 ,  0.00957144,  0.03900762,\n",
    "        0.03019955,  0.02339451,  0.03571388,  0.01193449, -0.00520003,\n",
    "        0.03669146, -0.04753138,  0.02231715, -0.03102773, -0.04482089,\n",
    "        0.03697566,  0.02688613, -0.0435798 ,  0.04312899,  0.01169087,\n",
    "       -0.00620462, -0.02331869, -0.01692372, -0.03140757,  0.02506586,\n",
    "        0.00043896, -0.01886852,  0.0101997 , -0.028493  ,  0.02301909,\n",
    "        0.00273767,  0.00410053,  0.01812294, -0.01900015, -0.02377961,\n",
    "        0.04634289, -0.01091236, -0.00957448,  0.03389013,  0.00263821,\n",
    "        0.03084084,  0.02855761, -0.03500202,  0.04772962, -0.02352563,\n",
    "       -0.03952361, -0.04985796,  0.02733092,  0.02226998,  0.02972344,\n",
    "       -0.0483004 ,  0.00078623,  0.02130418,  0.05781965, -0.00949879,\n",
    "       -0.02705787,  0.04432026,  0.03888553, -0.03688772, -0.00289346,\n",
    "        0.03016326,  0.02236678,  0.01017892,  0.04302256, -0.02253223,\n",
    "       -0.02256608, -0.00062213, -0.02056837, -0.01634149,  0.02273696,\n",
    "       -0.00195597,  0.04812237,  0.04420277,  0.05046334, -0.02974379,\n",
    "       -0.05830079,  0.02945499,  0.04267762,  0.03650451, -0.04082422,\n",
    "        0.02919774,  0.01156086,  0.03697591, -0.05248246, -0.03503422,\n",
    "        0.00483899,  0.03256226, -0.03413084,  0.0476909 , -0.03014346,\n",
    "        0.04990292, -0.02234584,  0.0164369 ,  0.01326732, -0.01786586,\n",
    "       -0.01815839, -0.00034461,  0.03865097,  0.02961425,  0.01337245,\n",
    "       -0.04323147,  0.02664199,  0.02846081, -0.03064529, -0.01843641,\n",
    "        0.0499557 , -0.02464271,  0.01245116, -0.01073819,  0.04776861,\n",
    "        0.0444951 , -0.03004744, -0.0274567 , -0.00375457, -0.00354746])\n",
    "word_is = arr.array('d',[4.76000607e-02,  3.31143215e-02, -3.82310040e-02,  5.35605997e-02,\n",
    "        9.46581922e-03, -3.03378403e-02,  8.00161660e-02,  2.17639580e-02,\n",
    "       -2.03576386e-02,  7.23522529e-02, -2.61763372e-02, -1.85152479e-02,\n",
    "        3.04624382e-02,  1.45126060e-02, -4.18603942e-02, -2.80726869e-02,\n",
    "        1.74106425e-03,  3.44309062e-02, -4.66611832e-02,  4.54452112e-02,\n",
    "        2.23366730e-02, -3.04078441e-02,  4.93021756e-02,  1.86697729e-02,\n",
    "       -2.56503168e-02,  2.39952840e-02, -6.04142733e-02,  3.52243595e-02,\n",
    "        1.65656451e-02, -3.48872803e-02,  6.21112389e-03,  3.06215007e-02,\n",
    "       -3.96319032e-02, -2.30389722e-02,  4.34885770e-02, -2.91425847e-02,\n",
    "        3.91301550e-02, -8.87334245e-05, -3.34570333e-02, -6.13255752e-03,\n",
    "       -2.41548568e-02,  2.63708159e-02, -4.78575528e-02, -4.11329493e-02,\n",
    "        5.25938235e-02,  2.26994287e-02, -1.32012097e-02, -2.52869502e-02,\n",
    "       -3.48715149e-02, -9.57401295e-04, -6.71240240e-02,  3.90645228e-02,\n",
    "       -3.17270346e-02, -3.85636427e-02, -5.61157763e-02, -4.92130928e-02,\n",
    "        3.73192620e-03,  3.49136889e-02, -9.72762704e-03,  2.71123964e-02,\n",
    "       -3.44599709e-02,  5.53382933e-02,  7.16097653e-03, -4.02891897e-02,\n",
    "        2.04153843e-02, -3.04560289e-02,  2.59520039e-02,  1.62759908e-02,\n",
    "       -2.74350885e-02,  3.26045975e-02,  3.16380374e-02,  7.43186250e-02,\n",
    "        5.94113069e-03, -4.11989279e-02,  4.19209823e-02, -3.34016397e-03,\n",
    "       -6.85869083e-02,  2.91506909e-02,  3.12672481e-02,  5.43931946e-02,\n",
    "        1.67689975e-02,  3.33776101e-02, -2.87121302e-03,  3.10566626e-03,\n",
    "       -5.14079770e-03,  3.52517329e-02,  5.00576049e-02, -2.95776855e-02,\n",
    "        3.85292284e-02,  1.66190639e-02,  1.35765737e-02,  9.51553322e-03,\n",
    "       -9.38591175e-03,  6.45829812e-02,  4.37660217e-02,  1.36864465e-02,\n",
    "       -4.86464575e-02,  4.65868264e-02, -2.63414066e-02,  1.30179254e-02,\n",
    "        3.73842791e-02, -4.17719409e-02,  2.60037053e-02,  8.62040296e-02,\n",
    "       -4.35390212e-02, -4.19315174e-02, -2.12227721e-02, -3.86910997e-02,\n",
    "       -9.37169604e-03, -2.25883331e-02,  6.13778941e-02,  1.75790209e-02,\n",
    "       -3.14018168e-02, -9.39053949e-03,  9.29414236e-04, -3.96535620e-02,\n",
    "        2.70683188e-02, -1.81172062e-02,  4.58275713e-02,  4.38892804e-02,\n",
    "       -5.59365489e-02,  3.17908488e-02, -4.44039423e-03,  2.26773042e-02,\n",
    "        5.52058890e-02,  3.35993022e-02,  3.55832726e-02, -3.02804112e-02,\n",
    "        7.97436982e-02,  1.85735654e-02,  1.76321752e-02, -5.08265048e-02,\n",
    "       -2.87966952e-02,  2.04890221e-02,  1.05999708e-02, -3.15303095e-02,\n",
    "        4.83616069e-02,  2.35169120e-02, -8.32244568e-03,  3.87272127e-02,\n",
    "       -2.05198042e-02,  2.93531045e-02, -4.52823052e-03, -4.42550145e-02,\n",
    "        2.84185354e-03, -3.19210328e-02, -2.99352314e-02, -1.67267211e-02,\n",
    "        2.03416869e-02,  2.73557082e-02,  1.46889407e-02, -2.99070831e-02,\n",
    "       -2.99541038e-02, -3.59328240e-02,  1.30769552e-03,  2.97307987e-02,\n",
    "        2.27454044e-02, -6.11624718e-02,  4.42215474e-03,  1.77906454e-02,\n",
    "        1.91378053e-02,  2.61036195e-02, -1.01322103e-02, -7.49469176e-03,\n",
    "       -4.80861291e-02, -2.67126877e-02, -2.46714987e-02,  3.09727038e-03,\n",
    "       -4.88507971e-02, -3.49947512e-02, -2.94289086e-02, -3.31337610e-03,\n",
    "        3.84460688e-02,  2.04908662e-02, -2.78293900e-02,  1.70927886e-02,\n",
    "        3.55558917e-02, -1.87301524e-02, -4.75678146e-02,  2.50313133e-02,\n",
    "        4.44205217e-02, -4.01872061e-02,  9.07432940e-03,  1.32090449e-02,\n",
    "        2.28823107e-02,  1.41000515e-02,  3.67765166e-02,  1.31328758e-02,\n",
    "        1.29025122e-02, -9.05681681e-03, -2.46695932e-02, -1.71890517e-03,\n",
    "       -4.50154915e-02,  1.33702066e-03, -2.13227533e-02, -1.61232986e-02,\n",
    "        4.52681147e-02, -5.09248525e-02,  4.11099978e-02,  5.34129366e-02,\n",
    "        2.08392590e-02,  4.21766266e-02,  1.79937370e-02, -4.29695621e-02,\n",
    "       -1.45278927e-02,  2.27495655e-02,  3.28133181e-02,  1.69461723e-02,\n",
    "        1.94932614e-02,  2.26164516e-02, -8.02691001e-03, -1.90678146e-02,\n",
    "       -1.19305532e-02,  3.15997005e-03,  2.95054130e-02,  3.51113379e-02,\n",
    "        2.99096331e-02, -1.64153799e-02,  3.32451351e-02,  4.91783321e-02,\n",
    "        2.08245702e-02, -2.51036771e-02,  6.03167573e-03,  3.83231156e-02,\n",
    "        4.12025210e-03,  2.01530624e-02, -9.99914669e-03, -2.17085704e-02,\n",
    "        1.26278785e-03, -2.44789198e-02, -2.26404308e-03, -1.17148487e-02,\n",
    "       -2.99108308e-02, -4.98368815e-02,  1.25754504e-02,  2.87900679e-02,\n",
    "        7.45924562e-02,  3.43675986e-02, -2.17527244e-02,  2.32782029e-03,\n",
    "        2.68835993e-03, -3.67351547e-02, -1.87195260e-02, -4.04253379e-02,\n",
    "        1.89138073e-02,  2.76497286e-02, -6.77214051e-03,  3.66002358e-02,\n",
    "        1.74309313e-02,  5.30896187e-02, -2.89011467e-02,  4.55495119e-02,\n",
    "       -1.19697023e-02,  1.13179665e-02, -2.98554581e-02, -9.60453693e-03,\n",
    "        2.85166018e-02,  5.39816804e-02,  1.07966186e-02,  6.74778037e-03,\n",
    "       -2.50829086e-02, -4.03760858e-02, -1.37361558e-02,  2.75991540e-02,\n",
    "        4.59804423e-02,  3.53570282e-02,  2.34947242e-02,  3.44173022e-04,\n",
    "       -5.09375110e-02,  1.15464618e-02,  4.57558967e-02, -3.78656723e-02,\n",
    "        2.76288595e-02, -1.81199778e-02, -5.51776811e-02, -4.42314893e-02,\n",
    "        2.09169090e-02,  3.98296714e-02,  1.79209802e-02, -5.71626313e-02,\n",
    "       -5.17111942e-02, -4.44942676e-02, -9.66103002e-03,  4.16827984e-02,\n",
    "       -3.32073383e-02,  1.47932041e-02, -2.62227524e-02, -1.08407978e-02,\n",
    "        5.24407029e-02, -3.60820396e-03, -4.80647162e-02, -4.26847264e-02,\n",
    "        1.77300926e-02,  3.42832021e-02,  1.14600612e-02, -8.68409686e-03,\n",
    "        3.52613442e-02,  3.33702080e-02, -4.35001068e-02, -3.65723297e-02])\n",
    "word_of = arr.array('d',[-2.18994003e-02, -4.47349390e-03,  3.27969976e-02,  7.75414007e-03,\n",
    "        3.79627012e-02, -2.35090125e-02,  5.55943102e-02, -4.58570980e-02,\n",
    "       -4.02389234e-03,  6.85714604e-03,  4.16629389e-03,  2.89719254e-02,\n",
    "       -3.33543457e-02,  4.38278727e-03, -2.92215473e-03,  5.75232171e-02,\n",
    "        1.86448935e-02, -1.40707381e-02, -1.30884061e-02, -3.90175618e-02,\n",
    "        3.01895402e-02,  1.74227580e-02,  5.45784226e-03, -3.28305215e-02,\n",
    "        5.33292182e-02, -4.35481854e-02,  1.04097873e-02,  2.79197283e-02,\n",
    "        1.08625637e-02,  1.09706009e-02,  1.24089727e-02, -8.88272421e-04,\n",
    "        2.79266927e-02,  5.25532998e-02,  1.41070765e-02, -2.90964320e-02,\n",
    "       -5.28668799e-02,  3.03706992e-02,  3.04998681e-02,  1.55584319e-02,\n",
    "       -1.47838257e-02, -3.29170749e-02,  9.47792735e-03, -5.83308842e-03,\n",
    "       -2.44982634e-02,  2.21149586e-02,  1.23898117e-02,  1.17941861e-04,\n",
    "        3.57232653e-02, -2.07223594e-02,  2.55838898e-03, -7.48232193e-03,\n",
    "       -2.28480194e-02, -5.46058081e-02, -3.40342186e-02,  1.86829758e-03,\n",
    "        3.07331118e-03, -1.68699324e-02, -3.82829346e-02,  8.25522654e-03,\n",
    "        1.97469518e-02,  2.99646966e-02,  8.60448740e-03, -1.07689276e-02,\n",
    "        9.59309097e-03, -3.78385447e-02, -8.55407678e-03,  4.13689949e-02,\n",
    "       -1.21296719e-02, -8.06995388e-03, -1.85788255e-02,  1.21002626e-02,\n",
    "       -1.20198485e-02,  2.90670525e-02, -5.26894927e-02,  9.49445181e-03,\n",
    "        2.26927362e-02, -9.90966056e-03, -8.66031945e-02, -1.37818763e-02,\n",
    "        2.52075214e-02,  1.18459612e-02, -2.63811070e-02,  2.99923643e-02,\n",
    "       -2.59810151e-03,  3.00877821e-02,  4.28058411e-04, -1.22023625e-02,\n",
    "        5.47298230e-03,  4.36071306e-02,  3.58176567e-02, -2.97781415e-02,\n",
    "       -1.60323717e-02, -2.91355979e-02, -1.62644703e-02, -8.97822611e-04,\n",
    "       -1.26030687e-02, -1.38126425e-02,  3.70142534e-02, -2.04345230e-02,\n",
    "        2.97403764e-02, -1.75725482e-02,  3.20762061e-02,  4.03248817e-02,\n",
    "        1.22978510e-02,  2.37837732e-02,  4.14812639e-02, -1.73848178e-02,\n",
    "        4.43160646e-02,  4.78818715e-02, -2.62287371e-02, -9.76049155e-03,\n",
    "        1.68040395e-02, -1.84140913e-03, -1.73908286e-02,  1.35591840e-02,\n",
    "        3.87833528e-02, -3.48560070e-03,  6.04308629e-03, -2.29732925e-03,\n",
    "       -2.77843196e-02,  4.69086654e-02, -3.25419009e-02,  1.50929149e-02,\n",
    "        3.01774102e-03,  3.27231698e-02, -7.45125813e-03,  3.17793675e-02,\n",
    "       -8.09121598e-03,  2.78230533e-02, -1.68567733e-03,  2.79923063e-02,\n",
    "       -3.25403735e-03, -2.94604562e-02,  6.65626079e-02,  4.07245904e-02,\n",
    "        1.60814337e-02,  1.89253874e-02,  3.62136848e-02,  3.71126900e-03,\n",
    "        2.73738476e-03, -4.79082726e-02, -1.59200281e-02, -1.59962568e-02,\n",
    "       -3.40758376e-02, -2.40171282e-03,  3.72105278e-02, -2.55453102e-02,\n",
    "        1.06865698e-02, -2.09618476e-03,  1.59020275e-02, -3.23410542e-03,\n",
    "       -1.64894399e-03,  3.97457220e-02,  4.57197540e-02,  5.95022291e-02,\n",
    "       -1.14834504e-02, -3.14770676e-02,  9.61957406e-03,  5.04228566e-03,\n",
    "        2.23922096e-02,  2.24781577e-02,  3.11159268e-02, -3.29554155e-02,\n",
    "        1.14299189e-02, -1.06910225e-02, -1.97556615e-02,  9.55503434e-03,\n",
    "        1.28920004e-02, -3.27634886e-02, -1.53400963e-02, -5.22047319e-02,\n",
    "       -2.22291723e-02, -4.22911756e-02, -2.27775145e-02, -5.21067344e-02,\n",
    "       -1.26344024e-03,  3.24534588e-02,  2.42744517e-02, -1.97730623e-02,\n",
    "       -4.49041575e-02,  8.19272827e-03,  7.49207800e-04,  1.74021907e-02,\n",
    "        3.00289616e-02, -8.92731547e-03, -1.45258792e-02, -5.18774567e-03,\n",
    "        7.81103037e-03, -7.27374107e-03,  2.09833179e-02,  2.97571365e-02,\n",
    "        1.85067784e-02, -2.37247478e-02, -1.37597546e-02,  2.51453985e-02,\n",
    "        2.22602207e-02, -9.01199132e-03,  1.77633800e-02, -2.69865268e-05,\n",
    "        1.59465391e-02, -4.13312800e-02, -4.10432853e-02,  3.22381072e-02,\n",
    "        4.85470630e-02,  1.29698794e-02,  4.88946810e-02, -1.45407638e-03,\n",
    "       -1.27991578e-02,  2.26132553e-02, -4.07782048e-02, -3.72714438e-02,\n",
    "        2.53642648e-02,  6.78388402e-03, -2.67638825e-03,  1.37298582e-02,\n",
    "       -2.08532475e-02, -4.87047480e-03, -2.07573790e-02,  2.04480030e-02,\n",
    "        1.87454391e-02, -2.19178125e-02, -1.70928035e-02,  3.61416265e-02,\n",
    "       -6.57647923e-02, -2.31325328e-02,  1.84323117e-02, -3.12278625e-02,\n",
    "        9.31104831e-03, -1.48356780e-02,  2.20709499e-02, -1.78666245e-02,\n",
    "       -3.34776118e-02,  2.53021196e-02,  7.74601381e-03, -2.91665103e-02,\n",
    "       -3.37895006e-03, -3.55842337e-02,  2.33982597e-02,  1.76255349e-02,\n",
    "        4.87945378e-02,  9.26855020e-03,  2.97060050e-02,  2.87206434e-02,\n",
    "        3.00823133e-02,  1.82412080e-02,  5.81168011e-02, -1.07613662e-02,\n",
    "        3.27218957e-02,  5.83084598e-02,  3.63756926e-03,  2.61538308e-02,\n",
    "       -9.91644152e-03,  6.42061085e-02, -1.29630975e-02,  3.82652096e-02,\n",
    "       -2.09167995e-03,  4.86956574e-02,  7.47868419e-03,  1.35269091e-02,\n",
    "        7.56341172e-03,  1.27224950e-02, -3.99943888e-02,  2.47272477e-02,\n",
    "        4.17546891e-02,  3.40000764e-02,  3.68013345e-02, -2.70837583e-02,\n",
    "       -3.33564542e-02,  5.34755737e-03, -1.41320778e-02,  5.39548025e-02,\n",
    "        1.47487475e-02, -1.92488208e-02,  4.17820476e-02, -3.09779216e-02,\n",
    "       -1.57893058e-02, -2.28107404e-02,  3.42030004e-02, -2.03135498e-02,\n",
    "        1.73409991e-02, -3.17611583e-02, -2.04353612e-02, -5.29545620e-02,\n",
    "        3.72637883e-02, -1.06280055e-02, -2.33752076e-02,  2.64923647e-02,\n",
    "        2.73736734e-02, -4.46604704e-03,  1.22875255e-02,  4.24059629e-02,\n",
    "       -9.22063272e-03,  1.75165366e-02, -2.75964905e-02,  4.37059514e-02,\n",
    "       -3.55322170e-03,  2.46956740e-02, -4.66852002e-02, -1.86134037e-02])\n",
    "word_to = arr.array('d',[3.72934714e-02,  1.73124876e-02, -4.45820689e-02, -4.43500988e-02,\n",
    "        4.56806421e-02,  4.78125140e-02, -2.04252657e-02, -4.58608717e-02,\n",
    "        1.37817813e-02,  2.66195908e-02, -2.37776227e-02, -4.13040221e-02,\n",
    "       -4.22830041e-03, -2.49898825e-02,  2.64733694e-02, -3.35554071e-02,\n",
    "        1.25646754e-03,  1.06013268e-02, -1.49961170e-02, -3.94509211e-02,\n",
    "        6.97690248e-03, -3.08044273e-02, -2.67869607e-02, -3.27650011e-02,\n",
    "        4.18206602e-02, -4.23648618e-02, -1.13694621e-02,  4.51339595e-02,\n",
    "       -1.05095692e-02,  3.38918492e-02,  4.22715843e-02, -3.95670794e-02,\n",
    "        2.52705626e-02, -3.44930254e-02, -2.72470037e-03, -4.39758413e-02,\n",
    "        2.63329726e-02, -2.65595764e-02, -4.31400165e-02,  9.58412420e-03,\n",
    "       -4.37689312e-02,  9.11071897e-03,  3.53786275e-02, -1.03947772e-02,\n",
    "        2.48260563e-03, -1.08857229e-02,  3.63532789e-02, -2.95266379e-02,\n",
    "        3.48132141e-02, -3.68296988e-02, -2.37030000e-03, -3.40815634e-02,\n",
    "       -2.96121766e-03, -4.01701406e-02,  2.40841750e-02, -4.96400986e-03,\n",
    "        5.07578999e-02, -7.44051475e-04,  3.86630185e-02, -3.98343690e-02,\n",
    "       -2.76827272e-02,  3.99196446e-02, -4.78417659e-03, -1.15606422e-02,\n",
    "        1.60170579e-03,  3.32053714e-02,  8.22668546e-04, -1.68359298e-02,\n",
    "       -2.27390527e-04, -3.67360376e-02, -1.16118947e-02, -4.54956219e-02,\n",
    "       -4.55946587e-02,  3.50999571e-02,  1.43963192e-02,  4.50739712e-02,\n",
    "       -1.18791526e-02,  3.82833555e-02,  2.05661892e-03,  1.21722110e-02,\n",
    "        8.95516295e-03, -2.77643222e-02,  1.16961617e-02,  1.25156222e-02,\n",
    "        2.40220409e-02, -4.18169498e-02,  2.17066891e-02,  4.69740964e-02,\n",
    "        1.64080821e-02, -2.41360739e-02, -7.71623338e-03,  2.64786314e-02,\n",
    "        9.62732476e-04, -4.04803865e-02,  3.96482693e-03, -4.03189362e-04,\n",
    "        1.54527007e-02,  3.46065052e-02,  3.41671817e-02, -3.15636694e-02,\n",
    "       -4.16389108e-02,  6.46919198e-03,  2.99039818e-02, -6.10678121e-02,\n",
    "        1.75880883e-02, -1.43866697e-02, -3.87957692e-02, -3.36618908e-02,\n",
    "        4.09879070e-03, -1.84001364e-02,  2.92487293e-02,  1.28542846e-02,\n",
    "        2.86479807e-03, -2.55234037e-02,  1.01150079e-02, -7.45355478e-03,\n",
    "       -4.98276986e-02,  1.47432915e-03, -4.19412851e-02, -2.34936699e-02,\n",
    "        4.70317788e-02,  2.86733583e-02,  4.52674069e-02,  1.78581644e-02,\n",
    "       -4.10425924e-02,  1.68933552e-02, -4.38061319e-02, -4.14294302e-02,\n",
    "       -6.61482215e-02, -3.11650825e-03, -1.41077361e-03,  2.79028919e-02,\n",
    "       -3.80172185e-03, -2.01186471e-04,  4.05597826e-03,  1.14328216e-03,\n",
    "       -1.50692742e-02,  4.16657254e-02, -2.23701987e-02,  5.30989952e-02,\n",
    "        9.84259415e-04,  8.21145996e-03,  1.43882483e-02,  1.72438100e-02,\n",
    "        3.71794254e-02, -1.90195367e-02,  1.27587188e-02,  1.91290900e-02,\n",
    "       -3.23894322e-02, -3.59516889e-02, -5.33076935e-02,  3.28880921e-02,\n",
    "        4.77761738e-02,  5.39791360e-02, -1.29089886e-02, -4.33332473e-02,\n",
    "       -4.38703736e-03,  2.53995880e-02,  4.56458516e-03,  3.94141339e-02,\n",
    "       -1.39917862e-02,  1.13606369e-02, -2.18986459e-02,  5.24105877e-02,\n",
    "        9.45885666e-03,  6.18820591e-03,  3.78045812e-02,  2.19206121e-02,\n",
    "        3.89666967e-02, -3.90520366e-03, -3.46802101e-02, -2.03896780e-02,\n",
    "        1.06755430e-02, -6.93587121e-03, -6.95145049e-04, -6.12106000e-04,\n",
    "       -2.00004019e-02, -2.81171072e-02,  2.35254709e-02, -3.51792090e-02,\n",
    "        5.50473258e-02, -3.00910417e-02,  3.79541591e-02,  1.97934583e-02,\n",
    "        4.29881103e-02,  1.57800764e-02,  2.43694857e-02,  2.69971117e-02,\n",
    "        1.00440634e-02,  3.66914272e-02, -2.86844894e-02, -1.89336091e-02,\n",
    "        1.98223591e-02,  3.58001478e-02,  6.10856863e-04, -2.36325264e-02,\n",
    "       -3.25643048e-02, -4.89731282e-02, -2.94644628e-02, -3.57830934e-02,\n",
    "       -3.25701274e-02, -1.66697782e-02, -2.70524882e-02,  3.15096080e-02,\n",
    "        4.85760979e-02,  4.48284075e-02, -2.12111901e-02, -3.17198373e-02,\n",
    "       -4.06330973e-02, -2.61612493e-03,  9.34573542e-03, -2.04368960e-02,\n",
    "       -3.14265825e-02,  1.35771213e-02,  3.95239443e-02, -3.21627557e-02,\n",
    "        2.83672940e-02,  2.58338191e-02, -1.23997925e-05,  1.65550243e-02,\n",
    "        1.68564972e-02, -6.34755939e-04,  4.66459244e-03, -6.75408915e-03,\n",
    "       -1.70067400e-02,  3.14283855e-02,  1.07485857e-02,  1.70697998e-02,\n",
    "       -8.59561935e-03, -2.96512228e-02,  3.54682910e-03, -2.68627349e-02,\n",
    "        2.30796332e-03, -5.33933043e-02,  4.38698046e-02,  6.85073715e-03,\n",
    "       -1.41378725e-02,  4.45477143e-02,  2.34998260e-02,  3.04920748e-02,\n",
    "       -4.80695143e-02,  2.88376454e-02, -1.99687090e-02, -4.75362502e-03,\n",
    "       -2.07249951e-02,  3.46915759e-02, -4.52753678e-02,  1.42083811e-02,\n",
    "       -6.90761674e-03, -5.17800599e-02,  2.61085909e-02,  1.70625038e-02,\n",
    "       -2.87103206e-02,  5.46074174e-02,  3.31708640e-02,  1.50904302e-02,\n",
    "       -4.09421176e-02, -2.55727936e-02, -4.43790369e-02,  2.70326119e-02,\n",
    "       -1.76326872e-03,  2.69003902e-02,  2.80746873e-02,  4.34159972e-02,\n",
    "       -3.02020065e-03,  6.54475484e-03,  2.59447135e-02,  1.46861363e-03,\n",
    "        8.06093682e-03, -5.53339981e-02,  3.35572213e-02, -4.47602682e-02,\n",
    "       -3.27197276e-02, -4.42870222e-02,  3.72948162e-02,  4.71729040e-02,\n",
    "       -8.81279260e-03,  2.76324563e-02,  1.23850331e-02, -2.05771141e-02,\n",
    "        2.61662826e-02,  2.35826485e-02,  2.95160003e-02, -2.43199579e-02,\n",
    "       -1.78051330e-02, -2.90763825e-02, -4.21677716e-02, -1.80309229e-02,\n",
    "        3.29084205e-03, -3.08258291e-02, -8.09194986e-03, -7.56258843e-03,\n",
    "        1.06300823e-02, -1.37148183e-02,  3.84441204e-02, -5.56246145e-03,\n",
    "        5.21422736e-03, -1.17402570e-02,  3.39954048e-02,  3.97685617e-02])"
   ]
  },
  {
   "cell_type": "code",
   "execution_count": 33,
   "metadata": {},
   "outputs": [],
   "source": [
    "cos_sim_i = (np.dot(nlp(\"i\").vector,word_i))/(length1(word_i) * length1(nlp(\"i\").vector))"
   ]
  },
  {
   "cell_type": "code",
   "execution_count": 34,
   "metadata": {},
   "outputs": [
    {
     "name": "stdout",
     "output_type": "stream",
     "text": [
      "-0.03533647850506457\n"
     ]
    }
   ],
   "source": [
    "print(cos_sim_i)"
   ]
  },
  {
   "cell_type": "code",
   "execution_count": 38,
   "metadata": {},
   "outputs": [],
   "source": [
    "cos_sim_it = (np.dot(nlp(\"it\").vector,word_it))/(length1(word_it) * length1(nlp(\"it\").vector))"
   ]
  },
  {
   "cell_type": "code",
   "execution_count": 39,
   "metadata": {},
   "outputs": [
    {
     "name": "stdout",
     "output_type": "stream",
     "text": [
      "0.06781686821604767\n"
     ]
    }
   ],
   "source": [
    "print(cos_sim_it)"
   ]
  },
  {
   "cell_type": "code",
   "execution_count": 40,
   "metadata": {},
   "outputs": [],
   "source": [
    "cos_sim_and = (np.dot(nlp(\"and\").vector,word_and))/(length1(word_and) * length1(nlp(\"and\").vector))"
   ]
  },
  {
   "cell_type": "code",
   "execution_count": 41,
   "metadata": {},
   "outputs": [
    {
     "name": "stdout",
     "output_type": "stream",
     "text": [
      "0.11490579889637957\n"
     ]
    }
   ],
   "source": [
    "print(cos_sim_and)"
   ]
  },
  {
   "cell_type": "code",
   "execution_count": 42,
   "metadata": {},
   "outputs": [],
   "source": [
    "cos_sim_of = (np.dot(nlp(\"of\").vector,word_of))/(length1(word_of) * length1(nlp(\"of\").vector))"
   ]
  },
  {
   "cell_type": "code",
   "execution_count": 43,
   "metadata": {},
   "outputs": [
    {
     "name": "stdout",
     "output_type": "stream",
     "text": [
      "0.04460541372244691\n"
     ]
    }
   ],
   "source": [
    "print(cos_sim_of)"
   ]
  },
  {
   "cell_type": "code",
   "execution_count": 44,
   "metadata": {},
   "outputs": [],
   "source": [
    "cos_sim_br = (np.dot(nlp(\"br\").vector,word_br))/(length1(word_br) * length1(nlp(\"br\").vector))"
   ]
  },
  {
   "cell_type": "code",
   "execution_count": 45,
   "metadata": {},
   "outputs": [
    {
     "name": "stdout",
     "output_type": "stream",
     "text": [
      "-0.027887380033025246\n"
     ]
    }
   ],
   "source": [
    "print(cos_sim_br)"
   ]
  },
  {
   "cell_type": "code",
   "execution_count": 46,
   "metadata": {},
   "outputs": [],
   "source": [
    "cos_sim_the = (np.dot(nlp(\"the\").vector,word_the))/(length1(word_the) * length1(nlp(\"the\").vector))"
   ]
  },
  {
   "cell_type": "code",
   "execution_count": 47,
   "metadata": {},
   "outputs": [
    {
     "name": "stdout",
     "output_type": "stream",
     "text": [
      "-0.10564420349003327\n"
     ]
    }
   ],
   "source": [
    "print(cos_sim_the)"
   ]
  },
  {
   "cell_type": "code",
   "execution_count": 48,
   "metadata": {},
   "outputs": [],
   "source": [
    "cos_sim_a = (np.dot(nlp(\"a\").vector,word_a))/(length1(word_a) * length1(nlp(\"a\").vector))"
   ]
  },
  {
   "cell_type": "code",
   "execution_count": 49,
   "metadata": {},
   "outputs": [
    {
     "name": "stdout",
     "output_type": "stream",
     "text": [
      "0.07434649577688726\n"
     ]
    }
   ],
   "source": [
    "print(cos_sim_a)"
   ]
  },
  {
   "cell_type": "code",
   "execution_count": 50,
   "metadata": {},
   "outputs": [],
   "source": [
    "cos_sim_in = (np.dot(nlp(\"in\").vector,word_in))/(length1(word_in) * length1(nlp(\"in\").vector))"
   ]
  },
  {
   "cell_type": "code",
   "execution_count": 51,
   "metadata": {},
   "outputs": [
    {
     "name": "stdout",
     "output_type": "stream",
     "text": [
      "-0.005625865577786384\n"
     ]
    }
   ],
   "source": [
    "print(cos_sim_in)"
   ]
  },
  {
   "cell_type": "code",
   "execution_count": 52,
   "metadata": {},
   "outputs": [],
   "source": [
    "cos_sim_is = (np.dot(nlp(\"is\").vector,word_is))/(length1(word_is) * length1(nlp(\"is\").vector))"
   ]
  },
  {
   "cell_type": "code",
   "execution_count": 53,
   "metadata": {},
   "outputs": [
    {
     "name": "stdout",
     "output_type": "stream",
     "text": [
      "0.08828013598485525\n"
     ]
    }
   ],
   "source": [
    "print(cos_sim_is)"
   ]
  },
  {
   "cell_type": "code",
   "execution_count": 56,
   "metadata": {},
   "outputs": [],
   "source": [
    "cos_sim_to = (np.dot(nlp(\"to\").vector,word_to))/(length1(word_to) * length1(nlp(\"to\").vector))"
   ]
  },
  {
   "cell_type": "code",
   "execution_count": 58,
   "metadata": {},
   "outputs": [
    {
     "name": "stdout",
     "output_type": "stream",
     "text": [
      "0.009449538815481174\n"
     ]
    }
   ],
   "source": [
    "print(cos_sim_to)"
   ]
  },
  {
   "cell_type": "code",
   "execution_count": 59,
   "metadata": {},
   "outputs": [
    {
     "data": {
      "image/jpeg": "[encoded data removed]",
      "text/plain": [
       "<IPython.core.display.Image object>"
      ]
     },
     "execution_count": 59,
     "metadata": {
      "image/jpeg": {
       "height": 500,
       "width": 500
      }
     },
     "output_type": "execute_result"
    }
   ],
   "source": [
    "from IPython.display import Image\n",
    "Image(filename = \"C:\\\\Users\\\\anant\\\\Documents\\\\NLP\\\\HW5\\\\spacy_embedding_similarity.JPG\", width=500, height=500)"
   ]
  },
  {
   "cell_type": "markdown",
   "metadata": {},
   "source": []
  },
  {
   "cell_type": "code",
   "execution_count": null,
   "metadata": {},
   "outputs": [],
   "source": []
  }
 ],
 "metadata": {
  "kernelspec": {
   "display_name": "Python 3",
   "language": "python",
   "name": "python3"
  },
  "language_info": {
   "codemirror_mode": {
    "name": "ipython",
    "version": 3
   },
   "file_extension": ".py",
   "mimetype": "text/x-python",
   "name": "python",
   "nbconvert_exporter": "python",
   "pygments_lexer": "ipython3",
   "version": "3.7.4"
  }
 },
 "nbformat": 4,
 "nbformat_minor": 2
}

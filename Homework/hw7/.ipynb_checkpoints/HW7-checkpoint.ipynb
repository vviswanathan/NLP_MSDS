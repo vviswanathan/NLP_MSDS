{
 "cells": [
  {
   "cell_type": "markdown",
   "metadata": {},
   "source": [
    "Homework 7\n",
    "\n",
    "Imagine you are an Engineer for Amazon Alexa.  You are given the task of understanding text input and classifying it.  Create a data set of sayings that fall into 2 Categories: Getting Directions and Playing Music.  Make sure you data set has at least 100 examples total.\n",
    "\n",
    "Example Playing Music:\n",
    "\"Play some Pantera on Spotify\"\n",
    "\n",
    "Example Directions:\n",
    "\"Where is the nearest Starbucks\""
   ]
  },
  {
   "cell_type": "code",
   "execution_count": 34,
   "metadata": {},
   "outputs": [],
   "source": [
    "data =[\n",
    "    \"The quick brown fox jumps over the lazy dog.\",\n",
    "    \"I am a sentence for which I would like to get its embedding\",\n",
    "    \"This is a test and only a test\"]"
   ]
  },
  {
   "cell_type": "markdown",
   "metadata": {},
   "source": [
    "Q1 Given the following module that outputs a vector which represents your input sentence, transform your data into numbers."
   ]
  },
  {
   "cell_type": "code",
   "execution_count": 35,
   "metadata": {},
   "outputs": [
    {
     "name": "stdout",
     "output_type": "stream",
     "text": [
      "tf.Tensor(\n",
      "[[-0.03133018 -0.06338634 -0.01607501 ... -0.0324278  -0.04575738\n",
      "   0.05370456]\n",
      " [ 0.05080862 -0.01652431  0.01573779 ...  0.00976657  0.03170121\n",
      "   0.01788119]\n",
      " [ 0.01015075 -0.06261259 -0.02163215 ... -0.05879758  0.00330179\n",
      "   0.02137554]], shape=(3, 512), dtype=float32)\n"
     ]
    }
   ],
   "source": [
    "import tensorflow as tf\n",
    "import tensorflow_hub as hub\n",
    "\n",
    "embed = hub.load(\"https://tfhub.dev/google/universal-sentence-encoder/3\")\n",
    "embeddings = embed(data)[\"outputs\"]\n",
    "\n",
    "print(embeddings)"
   ]
  },
  {
   "cell_type": "code",
   "execution_count": 33,
   "metadata": {},
   "outputs": [
    {
     "data": {
      "text/plain": [
       "TensorShape([2, 512])"
      ]
     },
     "execution_count": 33,
     "metadata": {},
     "output_type": "execute_result"
    }
   ],
   "source": [
    "embeddings.shape"
   ]
  },
  {
   "cell_type": "markdown",
   "metadata": {},
   "source": [
    "Q2: Take your numbers from Q1 and create 2 classifiers of any type.  What is your best guess for the accuracy of your models. (Don't forget to use good data science practices!)"
   ]
  },
  {
   "cell_type": "code",
   "execution_count": null,
   "metadata": {},
   "outputs": [],
   "source": []
  }
 ],
 "metadata": {
  "kernelspec": {
   "display_name": "Python 3",
   "language": "python",
   "name": "python3"
  },
  "language_info": {
   "codemirror_mode": {
    "name": "ipython",
    "version": 3
   },
   "file_extension": ".py",
   "mimetype": "text/x-python",
   "name": "python",
   "nbconvert_exporter": "python",
   "pygments_lexer": "ipython3",
   "version": "3.7.4"
  }
 },
 "nbformat": 4,
 "nbformat_minor": 2
}

{
 "cells": [
  {
   "cell_type": "markdown",
   "metadata": {},
   "source": [
    "### Name: Anantharam(Ananth) Subramanian\n",
    "### NLP Homework #6\n"
   ]
  },
  {
   "cell_type": "code",
   "execution_count": 5,
   "metadata": {},
   "outputs": [],
   "source": [
    "#requires Tensorflow 2.0 and Tf-hub 0.7!!\n",
    "import tensorflow as tf\n",
    "import tensorflow_hub as hub\n",
    "import numpy as np"
   ]
  },
  {
   "cell_type": "code",
   "execution_count": 1,
   "metadata": {},
   "outputs": [],
   "source": [
    "import spacy\n",
    "nlp = spacy.load(\"en_core_web_md\")"
   ]
  },
  {
   "cell_type": "code",
   "execution_count": 6,
   "metadata": {},
   "outputs": [
    {
     "name": "stdout",
     "output_type": "stream",
     "text": [
      "2.0.0\n",
      "0.7.0\n"
     ]
    }
   ],
   "source": [
    "print(tf.__version__)\n",
    "print(hub.__version__)\n"
   ]
  },
  {
   "cell_type": "markdown",
   "metadata": {},
   "source": [
    "Load up the ELMO model"
   ]
  },
  {
   "cell_type": "code",
   "execution_count": 7,
   "metadata": {},
   "outputs": [
    {
     "name": "stdout",
     "output_type": "stream",
     "text": [
      "WARNING:tensorflow:From C:\\Users\\anant\\Anaconda3\\envs\\getty_proj\\lib\\site-packages\\tensorflow_core\\python\\ops\\resource_variable_ops.py:1781: calling BaseResourceVariable.__init__ (from tensorflow.python.ops.resource_variable_ops) with constraint is deprecated and will be removed in a future version.\n",
      "Instructions for updating:\n",
      "If using Keras pass *_constraint arguments to layers.\n"
     ]
    },
    {
     "name": "stderr",
     "output_type": "stream",
     "text": [
      "WARNING:tensorflow:From C:\\Users\\anant\\Anaconda3\\envs\\getty_proj\\lib\\site-packages\\tensorflow_core\\python\\ops\\resource_variable_ops.py:1781: calling BaseResourceVariable.__init__ (from tensorflow.python.ops.resource_variable_ops) with constraint is deprecated and will be removed in a future version.\n",
      "Instructions for updating:\n",
      "If using Keras pass *_constraint arguments to layers.\n"
     ]
    }
   ],
   "source": [
    "module_url = \"https://tfhub.dev/google/elmo/3\"\n",
    "embed = hub.load(module_url)"
   ]
  },
  {
   "cell_type": "markdown",
   "metadata": {},
   "source": [
    "Example of how to get data from the model"
   ]
  },
  {
   "cell_type": "code",
   "execution_count": 8,
   "metadata": {},
   "outputs": [],
   "source": [
    "text=tf.convert_to_tensor([\"I am feeling kind of blue\", \"Blue is the color of the sky\",\"lol wut\"])\n",
    "out1 = embed.signatures['default'](text)['elmo']\n",
    "\n"
   ]
  },
  {
   "cell_type": "code",
   "execution_count": 9,
   "metadata": {},
   "outputs": [
    {
     "data": {
      "text/plain": [
       "TensorShape([3, 7, 1024])"
      ]
     },
     "execution_count": 9,
     "metadata": {},
     "output_type": "execute_result"
    }
   ],
   "source": [
    "out1.shape"
   ]
  },
  {
   "cell_type": "markdown",
   "metadata": {},
   "source": [
    "## Outputs\n",
    "\n",
    "### The output dictionary contains:\n",
    "\n",
    "  * word_emb: the character-based word representations with shape [batch_size, max_length, 512].\n",
    "  * lstm_outputs1: the first LSTM hidden state with shape [batch_size, max_length, 1024].\n",
    "  * lstm_outputs2: the second LSTM hidden state with shape [batch_size, max_length, 1024].\n",
    "  * elmo: the weighted sum of the 3 layers, where the weights are trainable. This tensor has shape [batch_size, max_length, 1024]\n",
    "  * default: a fixed mean-pooling of all contextualized word representations with shape [batch_size, 1024].\n"
   ]
  },
  {
   "cell_type": "markdown",
   "metadata": {},
   "source": [
    "Q1:  Run a 4 words with different context meanings through Elmo--what is the (cosine) similarity of that word in the different contexts."
   ]
  },
  {
   "cell_type": "markdown",
   "metadata": {},
   "source": [
    "### Answer"
   ]
  },
  {
   "cell_type": "markdown",
   "metadata": {},
   "source": [
    "### The sentences chosen are as follows:\n",
    "### The crane flew away, Crane lifted the car, On the family way, Family of four children"
   ]
  },
  {
   "cell_type": "code",
   "execution_count": 13,
   "metadata": {},
   "outputs": [],
   "source": [
    "text=tf.convert_to_tensor([\"The crane flew away\", \"Crane lifted the car\", \"On the family way\", \"Family of four children\"])\n",
    "out = embed.signatures['default'](text)['elmo']"
   ]
  },
  {
   "cell_type": "code",
   "execution_count": 14,
   "metadata": {},
   "outputs": [],
   "source": [
    "cont1_crane = out[0][1]"
   ]
  },
  {
   "cell_type": "code",
   "execution_count": 15,
   "metadata": {},
   "outputs": [
    {
     "data": {
      "text/plain": [
       "<tf.Tensor: id=6349, shape=(1024,), dtype=float32, numpy=\n",
       "array([-0.13877901, -0.29395956, -0.18235528, ..., -0.50222695,\n",
       "       -0.17735893,  0.24674334], dtype=float32)>"
      ]
     },
     "execution_count": 15,
     "metadata": {},
     "output_type": "execute_result"
    }
   ],
   "source": [
    "cont1_crane"
   ]
  },
  {
   "cell_type": "code",
   "execution_count": 16,
   "metadata": {},
   "outputs": [],
   "source": [
    "cont2_crane = out[1][0]"
   ]
  },
  {
   "cell_type": "code",
   "execution_count": 17,
   "metadata": {},
   "outputs": [],
   "source": [
    "cont1_family = out[2][2]"
   ]
  },
  {
   "cell_type": "code",
   "execution_count": 18,
   "metadata": {},
   "outputs": [],
   "source": [
    "cont2_family = out[3][0]"
   ]
  },
  {
   "cell_type": "code",
   "execution_count": 19,
   "metadata": {},
   "outputs": [],
   "source": [
    "import numpy as np\n",
    "arr1_crane = np.array(cont1_crane)\n",
    "arr2_crane = np.array(cont2_crane)\n",
    "arr1_family = np.array(cont1_family)\n",
    "arr2_family = np.array(cont2_family)"
   ]
  },
  {
   "cell_type": "code",
   "execution_count": 20,
   "metadata": {},
   "outputs": [
    {
     "name": "stdout",
     "output_type": "stream",
     "text": [
      "17.147159199477066\n"
     ]
    }
   ],
   "source": [
    "import math\n",
    "len1 = 0\n",
    "for i,v in enumerate(arr1_crane):\n",
    "    len1 = len1 + ((v*v))\n",
    "cont1_crane_len = math.sqrt(len1)   \n",
    "print(cont1_crane_len)"
   ]
  },
  {
   "cell_type": "code",
   "execution_count": 21,
   "metadata": {},
   "outputs": [
    {
     "name": "stdout",
     "output_type": "stream",
     "text": [
      "14.78735638271689\n"
     ]
    }
   ],
   "source": [
    "len2 = 0\n",
    "for i,v in enumerate(arr2_crane):\n",
    "    len2 = len2 + ((v*v))\n",
    "cont2_crane_len = math.sqrt(len2)   \n",
    "print(cont2_crane_len)"
   ]
  },
  {
   "cell_type": "code",
   "execution_count": 22,
   "metadata": {},
   "outputs": [
    {
     "name": "stdout",
     "output_type": "stream",
     "text": [
      "16.593458642690386\n"
     ]
    }
   ],
   "source": [
    "len3 = 0\n",
    "for i,v in enumerate(arr1_family):\n",
    "    len3 = len3 + ((v*v))\n",
    "cont1_family_len = math.sqrt(len3)   \n",
    "print(cont1_family_len)"
   ]
  },
  {
   "cell_type": "code",
   "execution_count": 23,
   "metadata": {},
   "outputs": [
    {
     "name": "stdout",
     "output_type": "stream",
     "text": [
      "18.046815770259872\n"
     ]
    }
   ],
   "source": [
    "len4 = 0\n",
    "for i,v in enumerate(arr2_family):\n",
    "    len4 = len4 + ((v*v))\n",
    "cont2_family_len = math.sqrt(len4)   \n",
    "print(cont2_family_len)"
   ]
  },
  {
   "cell_type": "code",
   "execution_count": 24,
   "metadata": {},
   "outputs": [
    {
     "name": "stdout",
     "output_type": "stream",
     "text": [
      "253.56115403384985\n"
     ]
    }
   ],
   "source": [
    "length_prod_crane = (cont1_crane_len) * (cont2_crane_len)\n",
    "print(length_prod_crane)"
   ]
  },
  {
   "cell_type": "code",
   "execution_count": 25,
   "metadata": {},
   "outputs": [
    {
     "name": "stdout",
     "output_type": "stream",
     "text": [
      "299.4590911160598\n"
     ]
    }
   ],
   "source": [
    "length_prod_family = (cont1_family_len) * (cont2_family_len)\n",
    "print(length_prod_family)"
   ]
  },
  {
   "cell_type": "code",
   "execution_count": 26,
   "metadata": {},
   "outputs": [
    {
     "name": "stdout",
     "output_type": "stream",
     "text": [
      "92.23171\n"
     ]
    }
   ],
   "source": [
    "dot_prod_crane = np.dot(arr1_crane,arr2_crane)\n",
    "print(dot_prod_crane)"
   ]
  },
  {
   "cell_type": "code",
   "execution_count": 27,
   "metadata": {},
   "outputs": [
    {
     "name": "stdout",
     "output_type": "stream",
     "text": [
      "179.74829\n"
     ]
    }
   ],
   "source": [
    "dot_prod_family = np.dot(arr1_family,arr2_family)\n",
    "print(dot_prod_family)"
   ]
  },
  {
   "cell_type": "code",
   "execution_count": 28,
   "metadata": {},
   "outputs": [
    {
     "name": "stdout",
     "output_type": "stream",
     "text": [
      "0.3637454352688262\n"
     ]
    }
   ],
   "source": [
    "cos_similar_crane = (dot_prod_crane)/(length_prod_crane)\n",
    "print(cos_similar_crane)"
   ]
  },
  {
   "cell_type": "code",
   "execution_count": 29,
   "metadata": {},
   "outputs": [
    {
     "name": "stdout",
     "output_type": "stream",
     "text": [
      "0.6002432263643012\n"
     ]
    }
   ],
   "source": [
    "cos_similar_family = (dot_prod_family)/(length_prod_family)\n",
    "print(cos_similar_family)"
   ]
  },
  {
   "cell_type": "markdown",
   "metadata": {},
   "source": [
    "### The cosine similarity for the word crane at two different contexts is around 0.36374.\n",
    "### For the word family, the cosine similarity for different contexts is 0.6002"
   ]
  },
  {
   "cell_type": "markdown",
   "metadata": {},
   "source": [
    "Q2:  Where is the padding?  Where does it go in the sequence?"
   ]
  },
  {
   "cell_type": "markdown",
   "metadata": {},
   "source": [
    "### Answer"
   ]
  },
  {
   "cell_type": "markdown",
   "metadata": {},
   "source": [
    "### Padding is explained by choosing two sentences one 4 words long and other 7 words long. ELMO does the job of adding the padding automatically and is evident from the output shape. The padding is added at the end of the smaller sentence and in this case to \"Great way to collaborate\"."
   ]
  },
  {
   "cell_type": "code",
   "execution_count": 30,
   "metadata": {},
   "outputs": [],
   "source": [
    "text=tf.convert_to_tensor([\"Great way to collaborate\", \"Great way to start the day\"])\n",
    "out1 = embed.signatures['default'](text)['elmo']"
   ]
  },
  {
   "cell_type": "code",
   "execution_count": 31,
   "metadata": {},
   "outputs": [
    {
     "name": "stdout",
     "output_type": "stream",
     "text": [
      "(6, 1024)\n",
      "(6, 1024)\n"
     ]
    }
   ],
   "source": [
    "print(out1[0].shape)\n",
    "print(out1[1].shape)"
   ]
  },
  {
   "cell_type": "markdown",
   "metadata": {},
   "source": [
    "### The padding is added at the end of the sequence, ie. for the sentence \"Great way to collaborate\", the padding is added after collaborate to make up for the 2 additional words in the second sentence."
   ]
  },
  {
   "cell_type": "markdown",
   "metadata": {},
   "source": [
    "Q3 Describe how you would use an ELMO vector in a Neural Network below. Where does ELMO go? What else needs to be changed (added/removed)?"
   ]
  },
  {
   "cell_type": "markdown",
   "metadata": {},
   "source": [
    "### I took the cue from one of the live sessions where the professor showed how we could use glove vector within the embedding layer of an LSTM and use it to train the weights. On similar lines, I have attempted to use ELMO vectors within the embedding layer of the LSTM below.\n",
    "### Step 1: I first got the words from the glove vector and made a list of 5000 words\n",
    "### Step 2: The words were then passed into tf.convert_to_tensor and got the corresponding ELMO vectors\n",
    "### Step 4: The ELMO output is then converted into an array\n",
    "### Step 5: An embedding matrix was created and this is passed to the weights parameter within the embedding layer of LSTM\n",
    "\n",
    "### What is changed within the code? - Embedding vector length is changed tp 1024 to match with the ELMO output\n",
    "\n",
    "### What is added within the model? - Within the embedding layer definition, parameter weights is added and the embedding matrix created in Step 5 is passed"
   ]
  },
  {
   "cell_type": "code",
   "execution_count": 32,
   "metadata": {},
   "outputs": [],
   "source": [
    "import numpy as np\n",
    "embeddings_index = dict()\n",
    "total_words = []\n",
    "f = open('C:\\\\Users\\\\anant\\\\Documents\\\\NLP\\\\glove.6B\\\\glove.6B.100d.txt','r',encoding='UTF-8')\n",
    "for line in f:\n",
    "    values = line.split()\n",
    "    if len(total_words)<=4999:\n",
    "        word = values[0]\n",
    "        total_words.append(word)\n",
    "f.close()"
   ]
  },
  {
   "cell_type": "code",
   "execution_count": 67,
   "metadata": {},
   "outputs": [
    {
     "data": {
      "text/plain": [
       "5000"
      ]
     },
     "execution_count": 67,
     "metadata": {},
     "output_type": "execute_result"
    }
   ],
   "source": [
    "len(total_words)"
   ]
  },
  {
   "cell_type": "code",
   "execution_count": 105,
   "metadata": {},
   "outputs": [],
   "source": [
    "text=tf.convert_to_tensor(total_words)\n",
    "out3 = embed.signatures['default'](text)['elmo']\n"
   ]
  },
  {
   "cell_type": "code",
   "execution_count": 116,
   "metadata": {},
   "outputs": [
    {
     "name": "stdout",
     "output_type": "stream",
     "text": [
      "(5000, 1, 1024)\n"
     ]
    },
    {
     "data": {
      "text/plain": [
       "array([[ 0.30815458,  0.26630402,  0.23561302, ...,  0.02818283,\n",
       "         0.0464194 ,  0.28047854],\n",
       "       [ 0.07256798,  0.00247018,  0.60593152, ...,  0.362905  ,\n",
       "        -0.26421455,  0.2251651 ],\n",
       "       [-0.46635216, -0.18451712, -0.12319498, ..., -0.08025207,\n",
       "         0.03607745,  0.11280695],\n",
       "       ...,\n",
       "       [ 0.22425993, -0.36466366, -0.13002372, ...,  0.41463536,\n",
       "        -0.03452775,  0.23039362],\n",
       "       [ 0.16675907, -0.27973691,  0.3134284 , ...,  0.07983549,\n",
       "         0.19537374,  0.08571871],\n",
       "       [ 0.3321982 , -0.03619841,  0.73742741, ...,  0.0084485 ,\n",
       "        -0.15265071, -0.36237717]])"
      ]
     },
     "execution_count": 116,
     "metadata": {},
     "output_type": "execute_result"
    }
   ],
   "source": [
    "out4 = np.array(out3)\n",
    "print(out4.shape)\n",
    "#out5 = np.arange(1024*5000).reshape(1024,5000)\n",
    "#out5 = out5[np.newaxis, ...]\n",
    "#out4 = np.squeeze(out5,axis=0)\n",
    "#print(out4.shape)\n",
    "embedding_matrix = np.zeros((5000, 1024))\n",
    "for i in range(0,5000):\n",
    "     embedding_matrix[i] = out4[i]\n",
    "embedding_matrix.shape\n",
    "embedding_matrix"
   ]
  },
  {
   "cell_type": "code",
   "execution_count": null,
   "metadata": {},
   "outputs": [
    {
     "name": "stdout",
     "output_type": "stream",
     "text": [
      "Model: \"sequential_14\"\n",
      "_________________________________________________________________\n",
      "Layer (type)                 Output Shape              Param #   \n",
      "=================================================================\n",
      "embedding_8 (Embedding)      (None, 500, 1024)         5120000   \n",
      "_________________________________________________________________\n",
      "lstm_4 (LSTM)                (None, 500)               3050000   \n",
      "_________________________________________________________________\n",
      "dense_8 (Dense)              (None, 1)                 501       \n",
      "=================================================================\n",
      "Total params: 8,170,501\n",
      "Trainable params: 8,170,501\n",
      "Non-trainable params: 0\n",
      "_________________________________________________________________\n",
      "None\n",
      "Train on 25000 samples, validate on 25000 samples\n",
      "Epoch 1/3\n",
      "25000/25000 [==============================] - 16062s 642ms/sample - loss: 0.5531 - accuracy: 0.6952 - val_loss: 0.3695 - val_accuracy: 0.8321\n",
      "Epoch 2/3\n",
      "14464/25000 [================>.............] - ETA: 1:43:15 - loss: 0.2718 - accuracy: 0.8866"
     ]
    }
   ],
   "source": [
    "import numpy\n",
    "from tensorflow.keras.datasets import imdb\n",
    "from tensorflow.keras.models import Sequential\n",
    "from tensorflow.keras.layers import Dense\n",
    "from tensorflow.keras.layers import  LSTM as LSTM, SimpleRNN\n",
    "from tensorflow.keras.layers import Embedding\n",
    "from tensorflow.keras.preprocessing import sequence\n",
    "numpy.random.seed(7)\n",
    "top_words = 5000\n",
    "(X_train, y_train), (X_test, y_test) = imdb.load_data(num_words=top_words)\n",
    "max_review_length = 500\n",
    "X_train = sequence.pad_sequences(X_train, maxlen=max_review_length)\n",
    "X_test = sequence.pad_sequences(X_test, maxlen=max_review_length)\n",
    "embedding_vecor_length = 1024\n",
    "\n",
    "model2 = Sequential()\n",
    "model2.add(Embedding(top_words, embedding_vecor_length,weights=[embedding_matrix],input_length=max_review_length))\n",
    "model2.add(LSTM(500))\n",
    "#I need to change LSTM to 512 so it is a power of 2\n",
    "model2.add(Dense(1, activation='sigmoid'))\n",
    "model2.compile(loss='binary_crossentropy', optimizer='adam', metrics=['accuracy'])\n",
    "print(model2.summary())\n",
    "model2.fit(X_train, y_train, validation_data=(X_test, y_test), epochs=3, batch_size=128)"
   ]
  },
  {
   "cell_type": "markdown",
   "metadata": {},
   "source": [
    "### The model was run in a Google Colab GPU and here is the output."
   ]
  },
  {
   "cell_type": "code",
   "execution_count": 33,
   "metadata": {},
   "outputs": [
    {
     "data": {
      "image/jpeg": "[encoded data removed]",
      "text/plain": [
       "<IPython.core.display.Image object>"
      ]
     },
     "execution_count": 33,
     "metadata": {
      "image/jpeg": {
       "height": 500,
       "width": 500
      }
     },
     "output_type": "execute_result"
    }
   ],
   "source": [
    "from IPython.display import Image\n",
    "Image(filename = \"C:\\\\Users\\\\anant\\\\Documents\\\\NLP\\\\hw6\\\\colab_output_lstm_elmo.JPG\", width=500, height=500)"
   ]
  },
  {
   "cell_type": "markdown",
   "metadata": {},
   "source": [
    "Q4 Compare the size of elmo vectors (dot product) with the size of spacy vectors (dot product)"
   ]
  },
  {
   "cell_type": "markdown",
   "metadata": {},
   "source": [
    "### Answer:"
   ]
  },
  {
   "cell_type": "markdown",
   "metadata": {},
   "source": [
    "### Let us get the dot product of two words \"gain\" and \"pain\" using spacy"
   ]
  },
  {
   "cell_type": "code",
   "execution_count": 34,
   "metadata": {},
   "outputs": [
    {
     "data": {
      "text/plain": [
       "15.278834"
      ]
     },
     "execution_count": 34,
     "metadata": {},
     "output_type": "execute_result"
    }
   ],
   "source": [
    "doc1 = nlp(\"gain\").vector\n",
    "doc2 = nlp(\"pain\").vector\n",
    "\n",
    "np.dot(doc1, doc2)"
   ]
  },
  {
   "cell_type": "markdown",
   "metadata": {},
   "source": [
    "## Now run the same words with Elmo and obtain the dot product of the vectors"
   ]
  },
  {
   "cell_type": "code",
   "execution_count": 35,
   "metadata": {},
   "outputs": [],
   "source": [
    "text=tf.convert_to_tensor([\"gain\", \"pain\"])\n",
    "out = embed.signatures['default'](text)['elmo']"
   ]
  },
  {
   "cell_type": "code",
   "execution_count": 36,
   "metadata": {},
   "outputs": [
    {
     "data": {
      "text/plain": [
       "66.54489"
      ]
     },
     "execution_count": 36,
     "metadata": {},
     "output_type": "execute_result"
    }
   ],
   "source": [
    "np.dot(out[0][0],out[1][0])"
   ]
  },
  {
   "cell_type": "markdown",
   "metadata": {},
   "source": [
    "### Elmo is around 4.35 times larger compared to spacy"
   ]
  },
  {
   "cell_type": "code",
   "execution_count": null,
   "metadata": {},
   "outputs": [],
   "source": []
  }
 ],
 "metadata": {
  "kernelspec": {
   "display_name": "Python 3",
   "language": "python",
   "name": "python3"
  },
  "language_info": {
   "codemirror_mode": {
    "name": "ipython",
    "version": 3
   },
   "file_extension": ".py",
   "mimetype": "text/x-python",
   "name": "python",
   "nbconvert_exporter": "python",
   "pygments_lexer": "ipython3",
   "version": "3.7.4"
  }
 },
 "nbformat": 4,
 "nbformat_minor": 2
}

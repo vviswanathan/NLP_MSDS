{
 "cells": [
  {
   "cell_type": "markdown",
   "metadata": {},
   "source": [
    "# Introduction\n",
    "\n",
    "In this exercise, we will learn about\n",
    "- Compare Name with nickname and find:\n",
    "    - Edit Distance\n",
    "    - % String Match\n",
    "- "
   ]
  },
  {
   "cell_type": "markdown",
   "metadata": {},
   "source": [
    "## Levenshtein Distance\n",
    "\n",
    "Levenshtein distance measures the difference between 2 strings. Higher the number, the more different the strings. It also shows the number of edits (insert/delete/substitution) required to change string 1 into string 2. \n",
    "\n",
    "### Calculation Steps\n",
    "- Form a matrix with string 1 in the row and string 2 in the column\n",
    "- Enumerate the characters of the 2 strings\n",
    "- Examine each character of string 1 and 2\n",
    "    - If the characters match, then cost = 0, else cost = 1\n",
    "    - Calculate the minimum of the below 3\n",
    "        - Value on cell above + 1\n",
    "        - Value on cell to the left + 1\n",
    "        - Value on the cell diagonally above-left + cost\n",
    "- Repeat steps for all characters on string 1 and 2\n",
    "- The value on the bottom left (highlighted in yellow) is the Levenshtein Distance\n",
    "\n",
    "##### Method in Excel \n",
    "Will be attaching the excel sheet associated with the below picture as part of the homework submission.\n",
    "\n",
    "### Applications of Levenshtein Distance:\n",
    "- Spell Check\n",
    "- Linguistic distance"
   ]
  },
  {
   "cell_type": "code",
   "execution_count": 48,
   "metadata": {},
   "outputs": [],
   "source": [
    "import Levenshtein as lv\n",
    "from IPython.display import Image"
   ]
  },
  {
   "cell_type": "code",
   "execution_count": 51,
   "metadata": {},
   "outputs": [
    {
     "data": {
      "image/jpeg": "[encoded data removed]",
      "text/plain": [
       "<IPython.core.display.Image object>"
      ]
     },
     "execution_count": 51,
     "metadata": {
      "image/jpeg": {
       "height": 400,
       "width": 400
      }
     },
     "output_type": "execute_result"
    }
   ],
   "source": [
    "Image(filename = \"Levenshtein_Distance.jpg\", width=400, height=400)"
   ]
  },
  {
   "cell_type": "code",
   "execution_count": 56,
   "metadata": {},
   "outputs": [
    {
     "name": "stdout",
     "output_type": "stream",
     "text": [
      "Edit distance between Given Name and Nickname::  3\n",
      "Percentage string match between Given Name and Nickname:: 60.0%\n"
     ]
    }
   ],
   "source": [
    "GivenName = 'Vivek'\n",
    "Nickname = 'Vikky'\n",
    "\n",
    "print('Edit distance between Given Name and Nickname:: ', lv.distance(GivenName.upper(), Nickname.upper()))\n",
    "print('Percentage string match between Given Name and Nickname:: {}%' \n",
    "      .format(lv.ratio(GivenName.upper(), Nickname.upper())*100))"
   ]
  },
  {
   "cell_type": "markdown",
   "metadata": {},
   "source": [
    "# References \n",
    "\n",
    "- https://www.cuelogic.com/blog/the-levenshtein-algorithm\n",
    "- https://pypi.org/project/python-Levenshtein/#license\n",
    "- https://people.cs.pitt.edu/~kirk/cs1501/Pruhs/Spring2006/assignments/editdistance/Levenshtein%20Distance.htm"
   ]
  },
  {
   "cell_type": "code",
   "execution_count": null,
   "metadata": {},
   "outputs": [],
   "source": []
  }
 ],
 "metadata": {
  "kernelspec": {
   "display_name": "Python 3",
   "language": "python",
   "name": "python3"
  },
  "language_info": {
   "codemirror_mode": {
    "name": "ipython",
    "version": 3
   },
   "file_extension": ".py",
   "mimetype": "text/x-python",
   "name": "python",
   "nbconvert_exporter": "python",
   "pygments_lexer": "ipython3",
   "version": "3.7.3"
  }
 },
 "nbformat": 4,
 "nbformat_minor": 4
}
